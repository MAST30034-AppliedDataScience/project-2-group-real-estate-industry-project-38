{
 "cells": [
  {
   "cell_type": "markdown",
   "metadata": {},
   "source": [
    "# Download the information By Statistical Area2"
   ]
  },
  {
   "cell_type": "markdown",
   "metadata": {},
   "source": [
    "## Import the Library"
   ]
  },
  {
   "cell_type": "code",
   "execution_count": 1,
   "metadata": {},
   "outputs": [],
   "source": [
    "# The library for download data\n",
    "import os\n",
    "import zipfile\n",
    "from urllib.request import urlretrieve"
   ]
  },
  {
   "cell_type": "markdown",
   "metadata": {},
   "source": [
    "## The function use to download by URL"
   ]
  },
  {
   "cell_type": "code",
   "execution_count": 2,
   "metadata": {},
   "outputs": [],
   "source": [
    "# the function use to download the external data\n",
    "def download_data_url(url, output_dir, filename):\n",
    "    os.makedirs(output_dir, exist_ok=True)\n",
    "    file_path = os.path.join(output_dir, filename)\n",
    "\n",
    "    print('Starting download for data...')\n",
    "    try:\n",
    "        urlretrieve(url, file_path)\n",
    "        print(f'Finished download for data, saved to {file_path}')\n",
    "        return file_path\n",
    "    except Exception as e:\n",
    "        print(f'Failed to download the data: {e}')\n",
    "        return None"
   ]
  },
  {
   "cell_type": "code",
   "execution_count": 3,
   "metadata": {},
   "outputs": [],
   "source": [
    "# the function use to unzip the data\n",
    "def unzip_file(zip_file_path, extract_dir):\n",
    "    os.makedirs(extract_dir, exist_ok=True)\n",
    "    print(f'Starting to unzip {zip_file_path}...')\n",
    "    with zipfile.ZipFile(zip_file_path, 'r') as zip_ref:\n",
    "        zip_ref.extractall(extract_dir)\n",
    "    print(f'Finished unzipping, files extracted to {extract_dir}')"
   ]
  },
  {
   "cell_type": "markdown",
   "metadata": {},
   "source": [
    "## download the data of Statistical Area 2 Shapefile"
   ]
  },
  {
   "cell_type": "code",
   "execution_count": 4,
   "metadata": {},
   "outputs": [
    {
     "name": "stdout",
     "output_type": "stream",
     "text": [
      "Starting download for data...\n",
      "Finished download for data, saved to ../../data/landing/region_data/sa2_dataset/sa2_dataset.zip\n",
      "Starting to unzip ../../data/landing/region_data/sa2_dataset/sa2_dataset.zip...\n",
      "Finished unzipping, files extracted to ../../data/landing/region_data/sa2_dataset/sa2_unzip\n"
     ]
    }
   ],
   "source": [
    "sa2_url= 'https://www.abs.gov.au/statistics/standards/australian-statistical-geography-standard-asgs-edition-3/jul2021-jun2026/access-and-downloads/digital-boundary-files/SA2_2021_AUST_SHP_GDA2020.zip'\n",
    "sa2_output = '../../data/landing/region_data/sa2_dataset'\n",
    "sa2_filename = 'sa2_dataset.zip'\n",
    "download_data_url(sa2_url, sa2_output, sa2_filename)\n",
    "sa2_output_zip = '../../data/landing/region_data/sa2_dataset/sa2_dataset.zip'\n",
    "sa2_output_unzip = '../../data/landing/region_data/sa2_dataset/sa2_unzip'\n",
    "unzip_file(sa2_output_zip,sa2_output_unzip)"
   ]
  },
  {
   "cell_type": "markdown",
   "metadata": {},
   "source": [
    "## download the data of Local Government Areas"
   ]
  },
  {
   "cell_type": "code",
   "execution_count": 5,
   "metadata": {},
   "outputs": [
    {
     "name": "stdout",
     "output_type": "stream",
     "text": [
      "Starting download for data...\n",
      "Finished download for data, saved to ../../data/landing/region_data/LGA_dataset/LGA_dataset.zip\n",
      "Starting to unzip ../../data/landing/region_data/LGA_dataset/LGA_dataset.zip...\n",
      "Finished unzipping, files extracted to ../../data/landing/region_data/LGA_dataset/LGA_unzip\n"
     ]
    }
   ],
   "source": [
    "LGA_url = 'https://www.abs.gov.au/statistics/standards/australian-statistical-geography-standard-asgs-edition-3/jul2021-jun2026/access-and-downloads/digital-boundary-files/LGA_2022_AUST_GDA94_SHP.zip'\n",
    "LGA_output = '../../data/landing/region_data/LGA_dataset'\n",
    "LGA_filename = 'LGA_dataset.zip'\n",
    "download_data_url(LGA_url, LGA_output, LGA_filename)\n",
    "LGA_output_zip = '../../data/landing/region_data/LGA_dataset/LGA_dataset.zip'\n",
    "LGA_output_unzip = '../../data/landing/region_data/LGA_dataset/LGA_unzip'\n",
    "unzip_file(LGA_output_zip,LGA_output_unzip)"
   ]
  }
 ],
 "metadata": {
  "kernelspec": {
   "display_name": "base",
   "language": "python",
   "name": "python3"
  },
  "language_info": {
   "codemirror_mode": {
    "name": "ipython",
    "version": 3
   },
   "file_extension": ".py",
   "mimetype": "text/x-python",
   "name": "python",
   "nbconvert_exporter": "python",
   "pygments_lexer": "ipython3",
   "version": "3.11.3"
  }
 },
 "nbformat": 4,
 "nbformat_minor": 2
}
