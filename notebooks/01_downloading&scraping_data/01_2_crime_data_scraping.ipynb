{
 "cells": [
  {
   "cell_type": "code",
   "execution_count": 1,
   "metadata": {},
   "outputs": [
    {
     "name": "stdout",
     "output_type": "stream",
     "text": [
      "Downloading from: https://files.crimestatistics.vic.gov.au/2024-06/Data_Tables_LGA_Criminal_Incidents_Year_Ending_March_2024.xlsx\n",
      "Downloaded: Data_Tables_LGA_Criminal_Incidents_Year_Ending_March_2024.xlsx to ../../data/landing/other_data\n"
     ]
    }
   ],
   "source": [
    "import requests\n",
    "import os\n",
    "\n",
    "# Direct URL to the file\n",
    "file_url = 'https://files.crimestatistics.vic.gov.au/2024-06/Data_Tables_LGA_Criminal_Incidents_Year_Ending_March_2024.xlsx'\n",
    "\n",
    "# Update the directory path to ../../data/landing/other\n",
    "download_dir = '../../data/landing/other_data'\n",
    "os.makedirs(download_dir, exist_ok=True)  # Create the necessary directories if they don't exist\n",
    "\n",
    "# Extract the file name from the URL\n",
    "file_name = file_url.split('/')[-1]\n",
    "\n",
    "# Download the file\n",
    "print(f\"Downloading from: {file_url}\")\n",
    "file_response = requests.get(file_url)\n",
    "\n",
    "# Save the file to the specified directory\n",
    "with open(os.path.join(download_dir, file_name), 'wb') as f:\n",
    "    f.write(file_response.content)\n",
    "\n",
    "print(f\"Downloaded: {file_name} to {download_dir}\")\n"
   ]
  }
 ],
 "metadata": {
  "kernelspec": {
   "display_name": "Python 3.10.9 ('base')",
   "language": "python",
   "name": "python3"
  },
  "language_info": {
   "codemirror_mode": {
    "name": "ipython",
    "version": 3
   },
   "file_extension": ".py",
   "mimetype": "text/x-python",
   "name": "python",
   "nbconvert_exporter": "python",
   "pygments_lexer": "ipython3",
   "version": "3.11.3"
  },
  "orig_nbformat": 4,
  "vscode": {
   "interpreter": {
    "hash": "3c06e3e46abf38078fe4dac36a0085ec2b134ebbd73dd076183d243eeca6918f"
   }
  }
 },
 "nbformat": 4,
 "nbformat_minor": 2
}
