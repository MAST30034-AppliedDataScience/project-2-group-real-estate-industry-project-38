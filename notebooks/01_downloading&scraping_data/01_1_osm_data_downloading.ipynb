{
 "cells": [
  {
   "cell_type": "code",
   "execution_count": 1,
   "metadata": {},
   "outputs": [],
   "source": [
    "import requests\n",
    "import json\n",
    "import pandas as pd\n",
    "import os\n"
   ]
  },
  {
   "cell_type": "code",
   "execution_count": 2,
   "metadata": {},
   "outputs": [],
   "source": [
    "overpass_url = \"http://overpass-api.de/api/interpreter\"\n"
   ]
  },
  {
   "cell_type": "code",
   "execution_count": 3,
   "metadata": {},
   "outputs": [],
   "source": [
    "def fetch_external_data(overpass_url, overpass_query, file_path):\n",
    "    response = requests.get(overpass_url, params={'data': overpass_query})\n",
    "    if response.status_code == 200:\n",
    "        data = response.json() \n",
    "        file_path = file_path.replace('\\\\', '/')\n",
    "        with open(file_path, 'w') as json_file:\n",
    "            json.dump(data, json_file, indent=4)\n",
    "        print(\"Data successfully saved to:\", file_path)\n",
    "    else:\n",
    "        print(f\"Error: {response.status_code}\")\n",
    "    \n",
    "    return data"
   ]
  },
  {
   "cell_type": "code",
   "execution_count": 4,
   "metadata": {},
   "outputs": [],
   "source": [
    "base_path = \"../../data/landing\"\n",
    "osm_data_folder = os.path.join(base_path, 'osm_data')\n",
    "\n",
    "if not os.path.exists(osm_data_folder):\n",
    "    os.makedirs(osm_data_folder)"
   ]
  },
  {
   "cell_type": "markdown",
   "metadata": {},
   "source": [
    "### Hospital"
   ]
  },
  {
   "cell_type": "code",
   "execution_count": 5,
   "metadata": {},
   "outputs": [],
   "source": [
    "# Overpass QL query for hospitals in Victoria, Australia\n",
    "hospital_overpass_query = \"\"\"\n",
    "[out:json][timeout:250];\n",
    "area(3602316741)->.searchArea;\n",
    "(\n",
    "  node[\"amenity\"=\"hospital\"](area.searchArea);\n",
    "  way[\"amenity\"=\"hospital\"](area.searchArea);\n",
    ");\n",
    "out body;\n",
    ">;\n",
    "out skel qt;\n",
    "\"\"\""
   ]
  },
  {
   "cell_type": "code",
   "execution_count": 6,
   "metadata": {},
   "outputs": [],
   "source": [
    "hospitals_file_path = os.path.join(osm_data_folder, \"hospital_data.json\")\n"
   ]
  },
  {
   "cell_type": "code",
   "execution_count": 7,
   "metadata": {},
   "outputs": [
    {
     "name": "stdout",
     "output_type": "stream",
     "text": [
      "Data successfully saved to: ../../data/landing/osm_data/hospital_data.json\n"
     ]
    }
   ],
   "source": [
    "hospital_data =  fetch_external_data(overpass_url, hospital_overpass_query, hospitals_file_path)"
   ]
  },
  {
   "cell_type": "markdown",
   "metadata": {},
   "source": [
    "### School"
   ]
  },
  {
   "cell_type": "code",
   "execution_count": 8,
   "metadata": {},
   "outputs": [
    {
     "name": "stdout",
     "output_type": "stream",
     "text": [
      "Data successfully saved to: ../data/landing/school_data.csv\n"
     ]
    }
   ],
   "source": [
    "school_url = \"https://www.education.vic.gov.au/Documents/about/research/datavic/dv346-schoollocations2023.csv\"\n",
    "school_file_path = '../../data/landing/osm_data/school_data.csv'\n",
    "response = requests.get(school_url)\n",
    "\n",
    "if response.status_code == 200:\n",
    "    with open(school_file_path, 'w', encoding='utf-8') as file:\n",
    "        file.write(response.text)  \n",
    "    print(\"Data successfully saved to: ../data/landing/school_data.csv\")\n",
    "else:\n",
    "    print(f\"Error: {response.status_code}\")\n"
   ]
  },
  {
   "cell_type": "markdown",
   "metadata": {},
   "source": [
    "#### Kindergarten, College and University"
   ]
  },
  {
   "cell_type": "code",
   "execution_count": 9,
   "metadata": {},
   "outputs": [],
   "source": [
    "school_overpass_query = \"\"\"\n",
    "[out:json][timeout:250];\n",
    "area(3602316741)->.searchArea;\n",
    "(\n",
    "  node[\"amenity\"=\"kindergarten\"](area.searchArea);\n",
    "  node[\"amenity\"=\"college\"](area.searchArea);\n",
    "  node[\"amenity\"=\"university\"](area.searchArea);\n",
    "\n",
    "  way[\"amenity\"=\"kindergarten\"](area.searchArea);\n",
    "  way[\"amenity\"=\"college\"](area.searchArea);\n",
    "  way[\"amenity\"=\"university\"](area.searchArea);\n",
    ");\n",
    "out body;\n",
    ">;\n",
    "out skel qt;\n",
    "\"\"\""
   ]
  },
  {
   "cell_type": "code",
   "execution_count": 10,
   "metadata": {},
   "outputs": [],
   "source": [
    "school2_file_path = \"../../data/landing/osm_data/school2_data.json\""
   ]
  },
  {
   "cell_type": "code",
   "execution_count": 11,
   "metadata": {},
   "outputs": [
    {
     "name": "stdout",
     "output_type": "stream",
     "text": [
      "Data successfully saved to: ../../data/landing/osm_data/school2_data.json\n"
     ]
    }
   ],
   "source": [
    "school2_data =  fetch_external_data(overpass_url, school_overpass_query, school2_file_path)"
   ]
  },
  {
   "cell_type": "code",
   "execution_count": 12,
   "metadata": {},
   "outputs": [],
   "source": [
    "data = [\n",
    "    {'id': 46422800, 'lat': -37.81028328947368, 'lon': 144.96307479210526, 'amenity': 'mall', 'name': 'Melbourne Central'},\n",
    "    {'id': 22818856, 'lat': -37.8019134, 'lon': 144.9597002, 'amenity': 'university', 'name': 'The University of Melbourne, Parkville Campus'},\n",
    "    {'id': 27877532, 'lat': -37.71797123367347, 'lon': 145.0500358602041, 'amenity': 'university', 'name': 'La Trobe University (Bundoora Campus)'},\n",
    "    {'id': 10585250, 'lat': -37.91128580967741, 'lon': 145.13606564032253, 'amenity': 'university', 'name': 'Monash University, Clayton Campus'},\n",
    "    {'id': 34094453, 'lat': -37.84440904347825, 'lon': 145.11258423913046, 'amenity': 'university', 'name': 'Deakin University - Burwood Campus'}\n",
    "]\n",
    "\n",
    "\n",
    "top_five_university = pd.DataFrame(data)\n",
    "top_five_university.to_csv('../../data/landing/osm_data/top_five_university_main_campus.csv', index=False)"
   ]
  },
  {
   "cell_type": "markdown",
   "metadata": {},
   "source": [
    "### Park"
   ]
  },
  {
   "cell_type": "code",
   "execution_count": 13,
   "metadata": {},
   "outputs": [],
   "source": [
    "park_overpass_query = \"\"\"\n",
    "[out:json][timeout:250];\n",
    "area(3602316741)->.searchArea;\n",
    "(\n",
    "    node[\"leisure\"=\"park\"](area.searchArea);\n",
    "    way[\"leisure\"=\"park\"](area.searchArea);\n",
    ");\n",
    "out body;\n",
    ">;\n",
    "out skel qt;\n",
    "\"\"\""
   ]
  },
  {
   "cell_type": "code",
   "execution_count": 14,
   "metadata": {},
   "outputs": [],
   "source": [
    "park_file_path = \"../../data/landing/osm_data/park_data.json\""
   ]
  },
  {
   "cell_type": "code",
   "execution_count": 15,
   "metadata": {},
   "outputs": [
    {
     "name": "stdout",
     "output_type": "stream",
     "text": [
      "Data successfully saved to: ../../data/landing/osm_data/park_data.json\n"
     ]
    }
   ],
   "source": [
    "park_data =  fetch_external_data(overpass_url, park_overpass_query, park_file_path)"
   ]
  },
  {
   "cell_type": "markdown",
   "metadata": {},
   "source": [
    "### Public Safety Facilities"
   ]
  },
  {
   "cell_type": "code",
   "execution_count": 16,
   "metadata": {},
   "outputs": [],
   "source": [
    "public_safety_facilities_overpass_query = \"\"\"\n",
    "[out:json][timeout:250];\n",
    "area(3602316741)->.searchArea;\n",
    "(\n",
    "    node[\"amenity\"=\"fire_station\"](area.searchArea);\n",
    "    node[\"amenity\"=\"police\"](area.searchArea);\n",
    "    way[\"amenity\"=\"fire_station\"](area.searchArea);\n",
    "    way[\"amenity\"=\"police\"](area.searchArea);\n",
    ");\n",
    "out body;\n",
    ">;\n",
    "out skel qt;\n",
    "\"\"\""
   ]
  },
  {
   "cell_type": "code",
   "execution_count": 17,
   "metadata": {},
   "outputs": [],
   "source": [
    "public_safety_facilities_file_path = \"../../data/landing/osm_data/public_safety_facilities_data.json\""
   ]
  },
  {
   "cell_type": "code",
   "execution_count": 18,
   "metadata": {},
   "outputs": [
    {
     "name": "stdout",
     "output_type": "stream",
     "text": [
      "Data successfully saved to: ../../data/landing/osm_data/public_safety_facilities_data.json\n"
     ]
    }
   ],
   "source": [
    "public_safety_facilities_data =  fetch_external_data(overpass_url, public_safety_facilities_overpass_query, public_safety_facilities_file_path)"
   ]
  },
  {
   "cell_type": "markdown",
   "metadata": {},
   "source": [
    "### Shopping Center and Supermarket"
   ]
  },
  {
   "cell_type": "code",
   "execution_count": 19,
   "metadata": {},
   "outputs": [],
   "source": [
    "shop_overpass_query = \"\"\"\n",
    "[out:json][timeout:250];\n",
    "area(3602316741)->.searchArea;\n",
    "(\n",
    "  node[\"shop\"=\"mall\"](area.searchArea);\n",
    "  way[\"shop\"=\"mall\"](area.searchArea);\n",
    "  node[\"shop\"=\"supermarket\"](area.searchArea);\n",
    "  way[\"shop\"=\"supermarket\"](area.searchArea);\n",
    ");\n",
    "out body;\n",
    ">;\n",
    "out skel qt;\n",
    "\"\"\""
   ]
  },
  {
   "cell_type": "code",
   "execution_count": 20,
   "metadata": {},
   "outputs": [],
   "source": [
    "shop_file_path = \"../../data/landing/osm_data/shop_data.json\""
   ]
  },
  {
   "cell_type": "code",
   "execution_count": 21,
   "metadata": {},
   "outputs": [
    {
     "name": "stdout",
     "output_type": "stream",
     "text": [
      "Data successfully saved to: ../../data/landing/osm_data/shop_data.json\n"
     ]
    }
   ],
   "source": [
    "shop_data =  fetch_external_data(overpass_url, shop_overpass_query, shop_file_path)"
   ]
  },
  {
   "cell_type": "markdown",
   "metadata": {},
   "source": [
    "### Entertainments"
   ]
  },
  {
   "cell_type": "code",
   "execution_count": 22,
   "metadata": {},
   "outputs": [],
   "source": [
    "entertainments_overpass_query = \"\"\"\n",
    "[out:json][timeout:250];\n",
    "area(3602316741)->.searchArea;// Gather results for bars, restaurants, cinemas, and theatres\n",
    "(\n",
    "  node[\"amenity\"=\"bar\"](area.searchArea);\n",
    "  node[\"amenity\"=\"restaurant\"](area.searchArea);\n",
    "  node[\"amenity\"=\"cinema\"](area.searchArea);\n",
    "  node[\"amenity\"=\"theatre\"](area.searchArea);\n",
    "  \n",
    "  way[\"amenity\"=\"bar\"](area.searchArea);\n",
    "  way[\"amenity\"=\"restaurant\"](area.searchArea);\n",
    "  way[\"amenity\"=\"cinema\"](area.searchArea);\n",
    "  way[\"amenity\"=\"theatre\"](area.searchArea);\n",
    ");\n",
    "// Output results\n",
    "out body;\n",
    ">;\n",
    "out skel qt;\n",
    "\"\"\""
   ]
  },
  {
   "cell_type": "code",
   "execution_count": 23,
   "metadata": {},
   "outputs": [],
   "source": [
    "entertainments_file_path = \"../../data/landing/osm_data/entertainments_data.json\""
   ]
  },
  {
   "cell_type": "code",
   "execution_count": 24,
   "metadata": {},
   "outputs": [
    {
     "name": "stdout",
     "output_type": "stream",
     "text": [
      "Data successfully saved to: ../../data/landing/osm_data/entertainments_data.json\n"
     ]
    }
   ],
   "source": [
    "entertainments_data =  fetch_external_data(overpass_url, entertainments_overpass_query, entertainments_file_path)"
   ]
  }
 ],
 "metadata": {
  "kernelspec": {
   "display_name": "Python 3.10.9 ('base')",
   "language": "python",
   "name": "python3"
  },
  "language_info": {
   "codemirror_mode": {
    "name": "ipython",
    "version": 3
   },
   "file_extension": ".py",
   "mimetype": "text/x-python",
   "name": "python",
   "nbconvert_exporter": "python",
   "pygments_lexer": "ipython3",
   "version": "3.11.3"
  },
  "vscode": {
   "interpreter": {
    "hash": "3c06e3e46abf38078fe4dac36a0085ec2b134ebbd73dd076183d243eeca6918f"
   }
  }
 },
 "nbformat": 4,
 "nbformat_minor": 2
}
