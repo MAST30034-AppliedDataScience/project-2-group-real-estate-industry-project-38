{
 "cells": [
  {
   "cell_type": "code",
   "execution_count": 1,
   "metadata": {},
   "outputs": [
    {
     "name": "stdout",
     "output_type": "stream",
     "text": [
      "All necessary files downloaded and saved in ../../data/landing/other_data\n"
     ]
    }
   ],
   "source": [
    "# Import necessary libraries\n",
    "import os\n",
    "import requests\n",
    "import zipfile\n",
    "\n",
    "# Utility function to download files\n",
    "def download_file(url, save_path):\n",
    "    response = requests.get(url)\n",
    "    with open(save_path, 'wb') as f:\n",
    "        f.write(response.content)\n",
    "\n",
    "# Utility function to extract specific file from a zip archive\n",
    "def extract_specific_file(zip_path, file_name, extract_to):\n",
    "    with zipfile.ZipFile(zip_path, 'r') as zip_ref:\n",
    "        zip_ref.extract(file_name, extract_to)\n",
    "\n",
    "# Step 1: Set up file paths and directories\n",
    "base_dir = '../..'\n",
    "data_dir = os.path.join(base_dir, 'data')\n",
    "landing_dir = os.path.join(data_dir, 'landing/other_data')\n",
    "os.makedirs(landing_dir, exist_ok=True)\n",
    "\n",
    "# Step 2: Download the rental data\n",
    "rental_data_url = 'https://www.dffh.vic.gov.au/quarterly-median-rent-local-government-area-march-quarter-2024-excel'\n",
    "rental_data_path = os.path.join(landing_dir, 'Quarterly_median_rent_March_2024.xlsx')\n",
    "download_file(rental_data_url, rental_data_path)\n",
    "\n",
    "# Step 3: Download the correspondence mapping zip file\n",
    "mapping_zip_url = \"https://data.gov.au/data/dataset/2c79581f-600e-4560-80a8-98adb1922dfc/resource/33d822ba-138e-47ae-a15f-460279c3acc3/download/asgs2021_correspondences.zip\"\n",
    "zip_file_path = os.path.join(landing_dir, 'asgs2021_correspondences.zip')\n",
    "download_file(mapping_zip_url, zip_file_path)\n",
    "\n",
    "# Step 4: Extract the required correspondence files from the zip\n",
    "# Extract POSTCODE to SA2 file\n",
    "postcode_sa2_file = 'CG_POSTCODE_2021_SA2_2021.xlsx'\n",
    "extract_specific_file(zip_file_path, postcode_sa2_file, landing_dir)\n",
    "\n",
    "# Extract LGA to SA2 file\n",
    "lga_sa2_file = 'CG_SA2_2021_LGA_2022.csv'\n",
    "extract_specific_file(zip_file_path, lga_sa2_file, landing_dir)\n",
    "\n",
    "\n",
    "# Step 5: Confirmation of file downloads and extraction\n",
    "print(f\"All necessary files downloaded and saved in {landing_dir}\")\n"
   ]
  }
 ],
 "metadata": {
  "kernelspec": {
   "display_name": "base",
   "language": "python",
   "name": "python3"
  },
  "language_info": {
   "codemirror_mode": {
    "name": "ipython",
    "version": 3
   },
   "file_extension": ".py",
   "mimetype": "text/x-python",
   "name": "python",
   "nbconvert_exporter": "python",
   "pygments_lexer": "ipython3",
   "version": "3.11.3"
  }
 },
 "nbformat": 4,
 "nbformat_minor": 2
}
