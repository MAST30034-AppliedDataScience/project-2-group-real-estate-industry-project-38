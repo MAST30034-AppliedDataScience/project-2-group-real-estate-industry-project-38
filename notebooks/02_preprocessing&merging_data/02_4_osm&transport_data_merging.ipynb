{
 "cells": [
  {
   "cell_type": "code",
   "execution_count": 1,
   "metadata": {},
   "outputs": [],
   "source": [
    "import pandas as pd\n",
    "import geopandas as gpd\n",
    "import os\n",
    "from shapely.geometry import Point\n",
    "\n",
    "def map_schools_to_regions(input_csv, regions_geojson, count_csv):\n",
    "    schools_df = pd.read_csv(input_csv)\n",
    "    \n",
    "    geometry = [Point(xy) for xy in zip(schools_df['lon'], schools_df['lat'])]\n",
    "    schools_gdf = gpd.GeoDataFrame(schools_df, geometry=geometry)\n",
    "    \n",
    "    regions_gdf = gpd.read_file(regions_geojson)\n",
    "    \n",
    "    if schools_gdf.crs != regions_gdf.crs:\n",
    "        schools_gdf = schools_gdf.set_crs(regions_gdf.crs, allow_override=True)\n",
    "    \n",
    "    schools_in_regions = gpd.sjoin(schools_gdf, regions_gdf, how='left', predicate='within')\n",
    "    \n",
    "    schools_in_regions['region'] = schools_in_regions['SA2_NAME21']  \n",
    "    \n",
    "    schools_in_regions = schools_in_regions.drop(columns=['index_right', 'geometry'])\n",
    "    \n",
    "    region_school_counts = schools_in_regions['region'].value_counts().reset_index()\n",
    "   \n",
    "    input_file_name = os.path.splitext(os.path.basename(input_csv))[0]\n",
    "    \n",
    "    region_school_counts.columns = ['region', f'{input_file_name}_count']\n",
    "    \n",
    "    region_school_counts.to_csv(count_csv, index=False)\n",
    "    \n",
    "    return region_school_counts\n",
    "\n",
    "\n"
   ]
  },
  {
   "cell_type": "markdown",
   "metadata": {},
   "source": [
    "# Mapping facilities to SA2"
   ]
  },
  {
   "cell_type": "code",
   "execution_count": 2,
   "metadata": {},
   "outputs": [],
   "source": [
    "input_csv = '../../data/raw/osm_data/school1.csv' \n",
    "regions_geojson = '../../data/landing/region_data/sa2_dataset/sa2_unzip'  \n",
    "count_csv = '../../data/raw/facility_count/school1_count.csv'\n",
    "# Ensure the directory exists before saving the file\n",
    "os.makedirs(os.path.dirname(count_csv), exist_ok=True)\n",
    "\n",
    "schools_mapped = map_schools_to_regions(input_csv, regions_geojson, count_csv)"
   ]
  },
  {
   "cell_type": "code",
   "execution_count": 3,
   "metadata": {},
   "outputs": [],
   "source": [
    "\n",
    "schools_csv = '../../data/raw/osm_data/school2.csv' \n",
    "regions_geojson = '../../data/landing/region_data/sa2_dataset/sa2_unzip'  \n",
    "count_csv = '../../data/raw/facility_count/school2_count.csv'\n",
    "\n",
    "schools_mapped = map_schools_to_regions(schools_csv, regions_geojson, count_csv)\n"
   ]
  },
  {
   "cell_type": "code",
   "execution_count": 4,
   "metadata": {},
   "outputs": [],
   "source": [
    "\n",
    "schools_csv = '../../data/raw/osm_data/entertainments.csv'  \n",
    "regions_geojson = '../../data/landing/region_data/sa2_dataset/sa2_unzip' \n",
    "count_csv = '../../data/raw/facility_count/entertainments_count.csv'\n",
    "\n",
    "schools_mapped = map_schools_to_regions(schools_csv, regions_geojson, count_csv)\n"
   ]
  },
  {
   "cell_type": "code",
   "execution_count": 5,
   "metadata": {},
   "outputs": [],
   "source": [
    "\n",
    "schools_csv = '../../data/raw/osm_data/hospital.csv'  \n",
    "regions_geojson = '../../data/landing/region_data/sa2_dataset/sa2_unzip'  \n",
    "count_csv = '../../data/raw/facility_count/hospital_count.csv'\n",
    "\n",
    "schools_mapped = map_schools_to_regions(schools_csv, regions_geojson, count_csv)\n"
   ]
  },
  {
   "cell_type": "code",
   "execution_count": 6,
   "metadata": {},
   "outputs": [],
   "source": [
    "schools_csv = '../../data/raw/osm_data/park.csv'  \n",
    "regions_geojson = '../../data/landing/region_data/sa2_dataset/sa2_unzip'  \n",
    "count_csv = '../../data/raw/facility_count/park_count.csv'\n",
    "\n",
    "schools_mapped = map_schools_to_regions(schools_csv, regions_geojson, count_csv)"
   ]
  },
  {
   "cell_type": "code",
   "execution_count": 7,
   "metadata": {},
   "outputs": [],
   "source": [
    "\n",
    "schools_csv = '../../data/raw/osm_data/psf.csv'  \n",
    "regions_geojson = '../../data/landing/region_data/sa2_dataset/sa2_unzip' \n",
    "count_csv = '../../data/raw/facility_count/psf_count.csv'\n",
    "\n",
    "schools_mapped = map_schools_to_regions(schools_csv, regions_geojson, count_csv)"
   ]
  },
  {
   "cell_type": "code",
   "execution_count": 8,
   "metadata": {},
   "outputs": [],
   "source": [
    "\n",
    "schools_csv = '../../data/raw/osm_data/shop.csv'  \n",
    "regions_geojson = '../../data/landing/region_data/sa2_dataset/sa2_unzip'  \n",
    "count_csv = '../../data/raw/facility_count/shop_count.csv'\n",
    "\n",
    "schools_mapped = map_schools_to_regions(schools_csv, regions_geojson, count_csv)"
   ]
  },
  {
   "cell_type": "markdown",
   "metadata": {},
   "source": [
    "## Count stops in each SA2"
   ]
  },
  {
   "cell_type": "code",
   "execution_count": 9,
   "metadata": {},
   "outputs": [
    {
     "name": "stdout",
     "output_type": "stream",
     "text": [
      "Unique SA2_NAME21 counts saved to ../../data/raw/facility_count/stops_datavic_count.csv\n"
     ]
    }
   ],
   "source": [
    "import pandas as pd\n",
    "\n",
    "file_path = '../../data/raw/stops_data/stops_datavic_mapped.csv'  \n",
    "df = pd.read_csv(file_path)\n",
    "\n",
    "unique_sa2_counts = df['SA2_NAME21'].value_counts().reset_index()\n",
    "unique_sa2_counts.columns = ['region', 'stop_count']  \n",
    "\n",
    "output_path = '../../data/raw/facility_count/stops_datavic_count.csv'  \n",
    "unique_sa2_counts.to_csv(output_path, index=False)\n",
    "\n",
    "\n",
    "print(f\"Unique SA2_NAME21 counts saved to {output_path}\")"
   ]
  },
  {
   "cell_type": "code",
   "execution_count": 10,
   "metadata": {},
   "outputs": [
    {
     "name": "stdout",
     "output_type": "stream",
     "text": [
      "                   region  entertainments_count  hospital_count  park_count  \\\n",
      "0    Melbourne CBD - East                 317.0             NaN         2.0   \n",
      "1    Melbourne CBD - West                 153.0             NaN         3.0   \n",
      "2                 Fitzroy                 135.0             2.0        13.0   \n",
      "3                 Carlton                  97.0             1.0        21.0   \n",
      "4                 Geelong                  94.0             3.0        27.0   \n",
      "..                    ...                   ...             ...         ...   \n",
      "558            Deniliquin                   NaN             NaN         NaN   \n",
      "559            Tumbarumba                   NaN             NaN         NaN   \n",
      "560  Naracoorte Surrounds                   NaN             NaN         NaN   \n",
      "561            Naracoorte                   NaN             NaN         NaN   \n",
      "562                  Yass                   NaN             NaN         NaN   \n",
      "\n",
      "     psf_count  school2_count  school1_count  shop_count  stop_count  \n",
      "0          3.0            7.0            2.0        10.0        32.0  \n",
      "1          3.0            4.0            2.0         5.0        67.0  \n",
      "2          1.0            6.0            3.0        14.0        35.0  \n",
      "3          1.0           10.0            2.0         9.0        52.0  \n",
      "4          2.0           11.0            7.0         4.0       122.0  \n",
      "..         ...            ...            ...         ...         ...  \n",
      "558        NaN            NaN            NaN         NaN         1.0  \n",
      "559        NaN            NaN            NaN         NaN         1.0  \n",
      "560        NaN            NaN            NaN         NaN         1.0  \n",
      "561        NaN            NaN            NaN         NaN         1.0  \n",
      "562        NaN            NaN            NaN         NaN         1.0  \n",
      "\n",
      "[563 rows x 9 columns]\n"
     ]
    }
   ],
   "source": [
    "import pandas as pd\n",
    "import os\n",
    "\n",
    "# Define the list of CSV file paths\n",
    "csv_files = [\n",
    "    '../../data/raw/facility_count/entertainments_count.csv',\n",
    "    '../../data/raw/facility_count/hospital_count.csv',\n",
    "    '../../data/raw/facility_count/park_count.csv',\n",
    "    '../../data/raw/facility_count/psf_count.csv',\n",
    "    '../../data/raw/facility_count/school2_count.csv',\n",
    "    '../../data/raw/facility_count/school1_count.csv',\n",
    "    '../../data/raw/facility_count/shop_count.csv',\n",
    "    '../../data/raw/facility_count/stops_datavic_count.csv'\n",
    "\n",
    "]\n",
    "\n",
    "# Initialize the first DataFrame and rename its columns based on the file name\n",
    "first_file = csv_files[0]\n",
    "first_df = pd.read_csv(first_file)\n",
    "\n",
    "# Iterate over the remaining CSV files and merge them\n",
    "for file in csv_files[1:]:\n",
    "    df = pd.read_csv(file)\n",
    "    # Rename the columns based on the file name\n",
    "    \n",
    "    # Merge the DataFrames on 'region'\n",
    "    first_df = pd.merge(first_df, df, on='region', how='outer')\n",
    "\n",
    "\n",
    "# Save the final merged DataFrame to a new CSV file\n",
    "output_csv = '../../data/raw/facility_count/facility_merged.csv'\n",
    "first_df.to_csv(output_csv, index=False)\n",
    "\n",
    "# Display the merged DataFrame\n",
    "print(first_df)\n",
    "\n",
    "\n"
   ]
  }
 ],
 "metadata": {
  "kernelspec": {
   "display_name": "base",
   "language": "python",
   "name": "python3"
  },
  "language_info": {
   "codemirror_mode": {
    "name": "ipython",
    "version": 3
   },
   "file_extension": ".py",
   "mimetype": "text/x-python",
   "name": "python",
   "nbconvert_exporter": "python",
   "pygments_lexer": "ipython3",
   "version": "3.11.3"
  }
 },
 "nbformat": 4,
 "nbformat_minor": 2
}
