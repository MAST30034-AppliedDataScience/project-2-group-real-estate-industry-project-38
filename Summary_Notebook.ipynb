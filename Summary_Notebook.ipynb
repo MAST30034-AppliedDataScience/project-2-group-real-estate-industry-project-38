{
 "cells": [
  {
   "cell_type": "markdown",
   "metadata": {},
   "source": [
    "# Generic Real Estate Consulting Project"
   ]
  },
  {
   "cell_type": "markdown",
   "metadata": {},
   "source": [
    "* Group number:38\n",
    "* Group members:\n",
    "* Haoran Guo(haorang2@student.unimelb.edu.au)\n",
    "* Jiaman Xu(jiamanx1@student.unimelb.edu.au)\n",
    "* Muhan Chu(muhanc@student.unimleb.edu.au)\n",
    "* Xinxiu Dai(xinxiud@student.unimelb.edu.au)\n",
    "* Zhihan Wang(zhihanw1@student.unimelb.edu.au)"
   ]
  },
  {
   "cell_type": "markdown",
   "metadata": {},
   "source": [
    "## 1. Answers to Topic Questions"
   ]
  },
  {
   "cell_type": "markdown",
   "metadata": {},
   "source": [
    "### 1.1 What are the most important internal and external features in predicting rental prices?"
   ]
  },
  {
   "cell_type": "markdown",
   "metadata": {},
   "source": [
    "| Model         | Optimal Number of Features | Selected Features                                                                                                                                                                                                                                                                                                                                                                                                                                                                                                                             |\n",
    "|---------------|----------------------------|------------------------------------------------------------------------------------------------------------------------------------------------------------------------------------------------------------------------------------------------------------------------------------------------------------------------------------------------------------------------------------------------------------------------------------------------------------------------------------------------------------------------------------------------|\n",
    "| Random Forest | 16                         | bed_info, bath_info, parking, Median monthly household mortgage payment, Median price of established house transfers, Median total income, Median weekly household rental payment, property_type_House, distance_to_melbourne_central, distance_to_the_university_of_melbourne,_parkville_campus, distance_to_la_trobe_university, distance_to_monash_university,_clayton_campus, distance_to_deakin_university_-_burwood_campus, secondary_primary_school_count_within_3000m, restaurant_bar_count_within_1000m, cinema_theatre_count_within_3000m |\n",
    "| XGBoost       | 30                         | bed_info, bath_info, parking, post_code, Children enrolled in a preschool or preschool program, Land area , Median monthly household mortgage payment, Median price of established house transfers, Median total income, Median weekly household rental payment, Number of jobs, Working age population, avg_crime_count, region_encoded, property_type_House, property_type_Townhouse, route_distance_m, distance_to_hospital, distance_to_police_station, distance_to_fire_station, distance_to_university_college, distance_to_melbourne_central, distance_to_the_university_of_melbourne,_parkville_campus, distance_to_monash_university, clayton_campus, distance_to_deakin_university_-_burwood_campus, distance_to_shop, secondary_primary_school_count_within_3000m, restaurant_bar_count_within_1000m, cinema_theatre_count_within_3000m, park_count_within_1000m |"
   ]
  },
  {
   "cell_type": "markdown",
   "metadata": {},
   "source": [
    "### 1.2 What are the top 10 suburbs with the highest predicted growth rate?"
   ]
  },
  {
   "cell_type": "markdown",
   "metadata": {},
   "source": [
    "| Rank | SA2 Name               | Mean Growth Rate |\n",
    "|------|------------------------|------------------|\n",
    "| 1    | Shepparton - North      | 20.90%           |\n",
    "| 2    | Truganina - North       | 17.64%           |\n",
    "| 3    | Warrnambool - North     | 17.48%           |\n",
    "| 4    | Tarneit - Central       | 17.22%           |\n",
    "| 5    | Alfredton               | 16.23%           |\n",
    "| 6    | Nhill Region            | 15.49%           |\n",
    "| 7    | Warrnambool - South     | 15.44%           |\n",
    "| 8    | Horsham                 | 15.25%           |\n",
    "| 9    | Moyne - West            | 15.13%           |\n",
    "| 10   | Point Cook - South      | 15.08%           |"
   ]
  },
  {
   "cell_type": "markdown",
   "metadata": {},
   "source": [
    "### 1.3 What are the most liveable and affordable suburbs according to your chosen metrics?"
   ]
  },
  {
   "cell_type": "markdown",
   "metadata": {},
   "source": [
    "| Rank | SA2                           | SA2 Liveability Index | Address                                      | Address Liveability Index |\n",
    "|------|-------------------------------|-----------------------|----------------------------------------------|--------------------------|\n",
    "| 1    | Berwick – North               | 0.718593              | 67 Drummond Street, Carlton VIC 3053         | 0.846633                 |\n",
    "| 2    | Oakleigh – Huntingdale        | 0.713433              | 117 Leicester Street, Carlton VIC 3053       | 0.837149                 |\n",
    "| 3    | Preston – East                | 0.710925              | 7 Magenta Place, Carlton VIC 3053            | 0.836526                 |\n",
    "| 4    | Wonthaggi – Inverloch         | 0.708301              | 9 Kelvin Place, Carlton VIC 3053             | 0.835131                 |\n",
    "| 5    | Carrum Downs                  | 0.695700              | 57 Peel Street, North Melbourne VIC 3051     | 0.834961                 |\n",
    "| 6    | Blackburn                     | 0.692955              | 205/24 Cobden Street, North Melbourne VIC 3051| 0.834898                |\n",
    "| 7    | Langwarrin                    | 0.686564              | 615/528 Swanston Street, Carlton VIC 3053    | 0.832236                 |\n",
    "| 8    | Wantirna South                | 0.683077              | 204/528 Swanston Street, Carlton VIC 3053    | 0.832236                 |\n",
    "| 9    | Box Hill                      | 0.680540              | 306/11-13 O'Connell Street, North Melbourne VIC 3051 | 0.831691      |\n",
    "| 10   | Lilydale – Coldstream         | 0.679883              | 7/1 O'Connell Street, North Melbourne VIC 3051| 0.831590                |\n"
   ]
  },
  {
   "cell_type": "markdown",
   "metadata": {},
   "source": [
    "## 2.Data Downloading"
   ]
  },
  {
   "cell_type": "markdown",
   "metadata": {},
   "source": [
    "**The process of running the code over and over again may result in different data, or subsequent code running incorrectly. So in this project, the dataset we use is the data grabbed on the 9th of September.**"
   ]
  },
  {
   "cell_type": "markdown",
   "metadata": {},
   "source": [
    "### 2.1 Domain Range Data"
   ]
  },
  {
   "cell_type": "markdown",
   "metadata": {},
   "source": [
    "`notebooks/01_downloading&scraping_data/01_3_domain_data_scraping.ipynb`: \n",
    "\n",
    " **Approach:** In this python file, we crawled nearly 3000 pieces of data from the domain rental website using the web scraping, including property name, type, rent, coordinates, room information, parking space information, \"Date Available\" information and \"describe\" information. And finally save to JSON format.\n",
    " \n",
    " **Assumption & Limitation：** domain rent data from the web crawl may show different results, our data crawl was on September 9, 2024\n"
   ]
  },
  {
   "cell_type": "markdown",
   "metadata": {},
   "source": [
    "### 2.2 Imformation Of each region"
   ]
  },
  {
   "cell_type": "markdown",
   "metadata": {},
   "source": [
    "`notebooks/01_downloading&scraping_data/01_5_region_data_crawling.ipynb`：\n",
    "\n",
    "**Approach:** In this Python Notebook, Firstly, all the web links of SA2 level regions in Australia were crawled from ABS website. Each link contains two parts of data, one is KeyStatistics, and the other is statistics for different fields in different years. Here, the Key Statistics are stored in 'all_region_key_data.csv', and the other parts are stored in '.. /data/ladning/region_data/long_run'\n",
    "\n",
    "**Purpose:** These two datasets are very helpful for answering the questions of this project, and they reflect the basic information of the area where the property is located\n",
    "\n",
    "**URL：**[Link of data](https://dbr.abs.gov.au/)\n",
    "\n",
    "The following table shows the features contained in these two sets of data respectively"
   ]
  },
  {
   "cell_type": "markdown",
   "metadata": {},
   "source": [
    "| Key Statistics                                       | Long Run Region Information                         |\n",
    "|-----------------------------------------------------|----------------------------------------------------|\n",
    "| 'Estimated resident population'                      | 'Estimated resident population','Population density (persons/km2)'|\n",
    "| 'Working age population (aged 15-64 years)'          | 'Working age population (aged 15-64 years)'         |\n",
    "| 'Estimated resident Aboriginal and Torres Strait Islander population' | 'Internal arrivals'                                |\n",
    "| 'Speakers of an Aboriginal or Torres Strait Islander language who identify as Aboriginal and/or Torres Strait Islander' | 'Total number of businesses'  |\n",
    "| 'Persons born overseas'                              | 'Houses - total'                                   |\n",
    "| 'Children enrolled in a preschool or preschool program' | 'Townhouses - total'                              |\n",
    "| 'Median price of established house transfers'        | 'Apartments - total'                               |\n",
    "| 'Median total income (excl. Government pensions and allowances)' | 'Total dwellings'                          |\n",
    "| 'Total number of businesses'                         | 'Median total income (excl. Government pensions and allowances)' |\n",
    "| 'Number of jobs'                                     | 'Number of jobs'                                   |\n",
    "| 'Median weekly household rental payment'             | 'Completed year 12 or equivalent'                  |\n",
    "| 'Median monthly household mortgage payment'          | 'Employed'                                         |\n",
    "| 'Land area'                                          | 'Unemployed'                                       |\n",
    "| 'Total protected land area'                          | 'Rented'                                           |\n",
    "|                                                     | 'Count of homeless persons'                        |\n"
   ]
  },
  {
   "cell_type": "markdown",
   "metadata": {},
   "source": [
    "**Data Range:**\n",
    "* For Key Statisitic：The latest data available on the ABS website\n",
    "* For Long run Information：Data available on the ABS website between 1999 and 2024"
   ]
  },
  {
   "cell_type": "markdown",
   "metadata": {},
   "source": [
    "**Assumption & Limatation:**  The information in these regions is sufficient to represent the entire region "
   ]
  },
  {
   "cell_type": "markdown",
   "metadata": {},
   "source": [
    "### 2.3 The Region data Download by URL(Shapefile)"
   ]
  },
  {
   "cell_type": "markdown",
   "metadata": {},
   "source": [
    "`notebooks/01_downloading&scraping_data/01_4_region_boundary_downloading.ipynb`:\n",
    "\n",
    "**Apporach:** In this Python Notebook, we use function to download or store the data contained in the URL and extract the package that requires unzip. The main files used in the later stage of this file are LGA Shapefile and SA2 shapefile. They are stored in the 'sa2_dataset/sa2_unzip' and 'LGA_unzip' folders.\n",
    "\n",
    "**URL：**\n",
    "* SA2 Shapefile：[Link to data](https://www.abs.gov.au/statistics/standards/australian-statistical-geography-standard-asgs-edition-3/jul2021-jun2026/access-and-downloads/digital-boundary-files/SA2_2021_AUST_SHP_GDA2020.zip)\n",
    "\n",
    "* LGA Shapefile：[Link to data](https://www.abs.gov.au/statistics/standards/australian-statistical-geography-standard-asgs-edition-3/jul2021-jun2026/access-and-downloads/digital-boundary-files/LGA_2022_AUST_GDA2020_SHP.zip)\n",
    "\n",
    "**Assumption & Limitation:** Assume these two ways of geographically dividing Victoria are the most suitable statistical methods for rental housing"
   ]
  },
  {
   "cell_type": "markdown",
   "metadata": {},
   "source": [
    "### 2.4 LGA Rent Data"
   ]
  },
  {
   "cell_type": "markdown",
   "metadata": {},
   "source": [
    "`notebooks/01_downloading&scraping_data/01_7_rent_data_downloading.ipynb`\n",
    "\n",
    " **Objective**: Download the latest Local Government Area (LGA) rent data for use in predicting rent prices and evaluating the liveability of different regions in Victoria, Australia.\n",
    "  \n",
    " **Purpose**: This dataset is a key input for our project, which aims to predict future rental prices and assess the liveability of various suburbs. By analyzing historical rental prices from March 1999 to March 2024, we can observe trends in affordability and identify how rental prices have evolved over time in different areas. This information also helps us assess the financial aspect of liveability when ranking suburbs.\n",
    "\n",
    " **Source**: Victorian Department of Families, Fairness, and Housing (DFFH) website. The dataset contains quarterly median rent data for each Local Government Area (LGA) in Victoria.\n",
    "\n",
    "**URL**: [Link to data](https://www.dffh.vic.gov.au/quarterly-median-rent-local-government-area-march-quarter-2024-excel)\n",
    "\n",
    " **Key Variables**:\n",
    "  - `Year`: The year of the record.\n",
    "  - `Quarter`: The quarter of the year (e.g., March, June).\n",
    "  - `LGA Name`: The Local Government Area for which the data applies.\n",
    "  - `Rental Property Count`: Number of rental properties in the LGA.\n",
    "  - `Median Rent`: The median rental price for properties in that LGA.\n",
    "\n",
    " **Data Range**: The dataset covers a time span from March 1999 to March 2024, allowing us to examine long-term rental price trends and assess how these trends might influence the future of each region."
   ]
  },
  {
   "cell_type": "markdown",
   "metadata": {},
   "source": [
    "### 2.5 LGA, Postcode, and SA2 Transformation"
   ]
  },
  {
   "cell_type": "markdown",
   "metadata": {},
   "source": [
    "`notebooks/01_downloading&scraping_data/01_7_rent_data_downloading.ipynb`\n",
    "\n",
    "\n",
    "**Objective**: Download and transform the necessary correspondence mapping files that allow us to merge data from various sources based on Local Government Area (LGA), Postcode, and Statistical Area Level 2 (SA2).\n",
    "\n",
    "**Purpose**: Different datasets in this project use varying geographic divisions, such as LGAs, Postcodes, and SA2s. To ensure consistency when merging data from these sources, we need to transform and align the geographic areas using correspondence mapping files. This step is crucial for seamless integration of rent data with other relevant datasets, such as demographic or liveability indicators, which may use different geographical boundaries.\n",
    "\n",
    "**Source**: Correspondence files are retrieved from the Australian Bureau of Statistics via data.gov.au. The files provide mappings between:\n",
    "  - **Postcode and SA2**: Useful for aligning datasets using postcodes (eg. Criminal data) with those using SA2 regions.\n",
    "  - **SA2 and LGA**: Enables merging datasets based on SA2 with those based on LGAs (eg. Rent data).\n",
    "  \n",
    "**URL**: [Correspondence mapping files](https://data.gov.au/data/dataset/2c79581f-600e-4560-80a8-98adb1922dfc/resource/33d822ba-138e-47ae-a15f-460279c3acc3/download/asgs2021_correspondences.zip)\n",
    "\n",
    "**Data Range**: The mappings correspond to 2021 SA2 and Postcode boundaries and 2022 LGA boundaries.\n",
    "\n",
    "**File Location**: \n",
    "  - The correspondence files are extracted and saved in the `data/raw` folder as:\n",
    "    - `CG_POSTCODE_2021_SA2_2021.xlsx` (Postcode to SA2).\n",
    "    - `CG_SA2_2021_LGA_2022.csv` (SA2 to LGA)."
   ]
  },
  {
   "cell_type": "markdown",
   "metadata": {},
   "source": [
    "### 2.6 Criminal data"
   ]
  },
  {
   "cell_type": "markdown",
   "metadata": {},
   "source": [
    "`notebooks/01_downloading&scraping_data/01_2_crime_data_scraping.ipynb`:\n",
    "\n",
    "**Approach:** In this python file, we crawled all crime data from the Local government areas of Victoria (LGA) from 2015 to March 2024. And put the captured data in the ‘Data_Tables_LGA_Criminal_Incidents_Year_Ending_March_2024.xlsx’\n",
    "\n",
    "**Assumption & Limitation:** criminal data from the web crawl may show different results, our data crawl was on September 9, 2024\n"
   ]
  },
  {
   "cell_type": "markdown",
   "metadata": {},
   "source": [
    "### 2.7 Victoria state stops informationc"
   ]
  },
  {
   "cell_type": "markdown",
   "metadata": {},
   "source": [
    "`notebooks/01_downloading&scraping_data/01_6_transport_data_downloading.ipynb`:\n",
    "\n",
    "**Approach:** To download all the zip files from 'https://data.ptv.vic.gov.au/downloads/gtfs.zip', store them in a folder named 'stops_datavic', extract the contents, and find all 'stops.txt' files, then merge them into a single file called 'stops_datavic.csv'."
   ]
  },
  {
   "cell_type": "markdown",
   "metadata": {},
   "source": [
    "### 2.8 Data from OpenStreetMap"
   ]
  },
  {
   "cell_type": "markdown",
   "metadata": {},
   "source": [
    "`notebooks/01_downloading&scraping_data/01_1_osm_data_downloading.ipynb`:\n",
    "\n",
    "**Approach**:  \n",
    "This notebook will retrieve data from OpenStreetMap (OSM) using the Overpass API. The fetched data will include the locations of various features such as:\n",
    "* Schools (kindergarten, college, and university)  \n",
    "* Parks\n",
    "* Public Safety Facilities (fire stations and police stations)  \n",
    "* Shopping Centers and Supermarkets\n",
    "* Entertainment Venues** (bars, restaurants, cinemas, theatres)\n",
    "\n",
    "Additionally, the **requests** library will be used to fetch an additional CSV file containing **primary and secondary school locations** from **vic.gov.au** websites.\n",
    "\n",
    "**Notes:** \n",
    "This notebook will focus on retrieving nodes and ways from OSM due to their higher relevance in identifying specific locations. Relations, while useful for more complex structures, are not needed for the current analysis."
   ]
  },
  {
   "cell_type": "markdown",
   "metadata": {},
   "source": [
    "## 3.Data Preprocessing"
   ]
  },
  {
   "cell_type": "markdown",
   "metadata": {},
   "source": [
    "### 3.1 Domain Data"
   ]
  },
  {
   "cell_type": "markdown",
   "metadata": {},
   "source": [
    "`notebooks/02_preprocessing&merging_data/02_2_domain_data_merging_and_preprocessing.ipynb`\n",
    "\n",
    "**Approach:** Get the 4-digit post code and region from the name column using a regular expression and create new post_code column and region column. \n",
    "Use regular expressions to extract the number of rooms and bathrooms from the bed_info and bath_info columns and convert them to integer types. Extract the number of parking Spaces from the Parking column, replace the missing value (N/A) with 0, and convert it to an integer type.\n",
    "Remove non-numeric characters (such as \"$\" and \"weekly\") from the cost_text column and convert them to floating-point number types for subsequent analysis.\n",
    "Delete records that contain any missing values to ensure data integrity. After all this processing, we have 2,957 pieces of data. We also looked at how many regions were covered by our data, and the results showed that our data covered 411 regions\n",
    "\n",
    "**Assumption & Limitation:** We assume that the format of the name column is consistent for extracting postcodes and regions using regular expressions, though variations in property address formatting could lead to inaccuracies. Missing values were dropped to ensure data integrity, but this might result in the loss of potentially useful records.\n"
   ]
  },
  {
   "cell_type": "markdown",
   "metadata": {},
   "source": [
    "### 3.2 External data"
   ]
  },
  {
   "cell_type": "markdown",
   "metadata": {},
   "source": [
    "#### 3.2.1 Criminal data"
   ]
  },
  {
   "cell_type": "markdown",
   "metadata": {},
   "source": [
    "`notebooks/02_preprocessing&merging_data/02_2_domain_data_merging_and_preprocessing.ipynb`\n",
    "\n",
    "**Approach:** First, reading the crime data from the Excel file and selecting the required columns preserves the following important information:\n",
    "Year, Year ending, Local Government, Area, Postcode, Suburb/Town Name, Offence Division, and only crime data between 2020 and 2024 will be kept to ensure the timeliness of the data.\n",
    "We groupe data according to the Postcode to calculate the average annual number of crimes within each post code area.\n",
    "Crime data is merged with property data using post_code to integrate the annual number of crimes per property into the final dataset.\n",
    "Duplicate Postcode columns are removed after merging to ensure clean data.\n",
    "\n",
    "**Assumption & Limitation:** The main assumption is that the crime data recorded under each Postcode accurately reflects the crime incidents within the same postcodes listed in the property data. However, postcodes might cover areas with diverse crime rates, and averaging the crime data may mask variations within different parts of the same postcode."
   ]
  },
  {
   "cell_type": "markdown",
   "metadata": {},
   "source": [
    "#### 3.2.2 Long Run SA2 region Information Preprocessing"
   ]
  },
  {
   "cell_type": "markdown",
   "metadata": {},
   "source": [
    "`notebooks/02_preprocessing&merging_data/02_1_range_data_preprocessing.ipynb`\n",
    "\n",
    "**Approach:** \n",
    "* The long run Region information is stored in 16 csv files, all of which are read first. This data is then consolidated and stored in 'range_region_data.csv'.\n",
    "* We observe that not all of the Information here has a complete dataset from 1999 to 2024 as rent does, so next we make predictions on the existing data based on a linear regression model. If the region's feature data is less than two years old, the Feature will be considered invalid and filled with 'NaN'. There will also be an intermediate case where the predicted value is negative, where we keep the most recent year of non-negative data for the region. This data is kept in 'cleaned_range_data_with_projection.csv'.\n",
    "* We then calculated the growth rates of the data according to the Linear regression model and stored them in region_growth_rates.\n",
    "\n",
    "**Assumption & Limitation：**\n",
    "* First of all, our projection directly uses linear regression model, which does not get the true value of each feature. Therefore, we assume that each feature value is in line with the growth rate of the linear regression model.\n",
    "* Second, in the case of negative values, we just use the last year's data, assuming that this is also true. No assumptions about special cases are made"
   ]
  },
  {
   "cell_type": "markdown",
   "metadata": {},
   "source": [
    "#### 3.2.3 Other"
   ]
  },
  {
   "cell_type": "markdown",
   "metadata": {},
   "source": [
    "##### Distance-based Features\n"
   ]
  },
  {
   "cell_type": "markdown",
   "metadata": {},
   "source": [
    "- **Transportation & Urban Centers:**\n",
    "    * `'route_distance_m'` (Distance to the Closet Train Station)\n",
    "    * `'distance_to_melbourne_central'` \n",
    "    * `'distance_to_shop'` \n",
    "\n",
    "- **Hospital & Safety:**\n",
    "    - `'distance_to_hospital'` \n",
    "    - `'distance_to_police_station'` \n",
    "    - `'distance_to_fire_station'` \n",
    "\n",
    "- **Educational Institutions:**\n",
    "    - `'distance_to_university_college'` \n",
    "    - `'distance_to_the_university_of_melbourne,_parkville_campus'`\n",
    "    - `'distance_to_la_trobe_university_(bundoora_campus)'`\n",
    "    - `'distance_to_monash_university,_clayton_campus'`\n",
    "    - `'distance_to_deakin_university_-_burwood_campus'`\n",
    "\n",
    "- **Amenity Count Features:**\n",
    "    - `'kindergarten_count_within_1000m'` \n",
    "    - `'secondary_primary_school_count_within_3000m'` \n",
    "    - `'restaurant_bar_count_within_1000m'` \n",
    "    - `'cinema_theatre_count_within_3000m'` \n",
    "    - `'shop_count_within_1000m'` \n",
    "    - `'park_count_within_1000m'`"
   ]
  },
  {
   "cell_type": "markdown",
   "metadata": {},
   "source": [
    "##### Categorical Features:"
   ]
  },
  {
   "cell_type": "markdown",
   "metadata": {},
   "source": [
    "- **Property type:**\n",
    "    - `'property_type_House'` \n",
    "    - `'property_type_New Apartments / Off the Plan'` \n",
    "    - `'property_type_New House & Land'` \n",
    "    - `'property_type_Studio'` \n",
    "    - `'property_type_Terrace'` \n",
    "    - `'property_type_Townhouse'`\n",
    "    - `'property_type_Villa'`"
   ]
  },
  {
   "cell_type": "markdown",
   "metadata": {},
   "source": [
    "#### 3.2.4 Open Map Service External Data Processing"
   ]
  },
  {
   "cell_type": "markdown",
   "metadata": {},
   "source": [
    "| Dataset                 | Number of Instances |\n",
    "|-------------------------|-------------------|\n",
    "| entertainments           | 5252              |\n",
    "| hospital                | 285               |\n",
    "| park                    | 11768             |\n",
    "| fire and police stations | 1257              |\n",
    "| school                  | 3415              |\n",
    "| shop                    | 1756              |"
   ]
  },
  {
   "cell_type": "markdown",
   "metadata": {},
   "source": [
    "`notebooks/02_preprocessing&merging_data/02_3_osm_data_preprocessing.ipynb`:\n",
    "\n",
    "**Approach**:  In OpenStreet Map (OSM) data, ways are composed of multiple nodes that form areas. In processing this data, for each way, this notebook extract all the associated nodes and compute the average of their latitude and longitude coordinates, which serves as the centroid of that way. Then, the notebook integrates these calculated centroids of the ways with individual nodes to create a complete dataset. \n",
    "\n",
    "**Notes**:  \n",
    "Upon inspection, it was found that the University of Melbourne's Parkvill campus was categorized as a commercial area, so it was manually added to the school dataset."
   ]
  },
  {
   "cell_type": "markdown",
   "metadata": {},
   "source": [
    "#### 3.2.5 Open Map Service External Data Engineering"
   ]
  },
  {
   "cell_type": "markdown",
   "metadata": {},
   "source": [
    "`notebooks/02_preprocessing&merging_data/02_3_osm_data_preprocessing.ipynb`"
   ]
  },
  {
   "cell_type": "markdown",
   "metadata": {},
   "source": [
    "**Approach**:  First, this notebook uses the BallTree method to calculate the straight-line distance between each property and find the nearest train station, then adds the distance and the train station information to the property data. Then, it utilizes the OpenRouteService API to further caculate the travel distance(m) and time(s) from each property to the nearest train station. \n",
    "\n",
    "Additionally, the notebook also employs the BallTree method to calculate the straight-line distance between each property and the nearest public facilities, and calculate the number of kindergartens, schools, restaurants, and entertainment facilities within a certain radius around each  property."
   ]
  },
  {
   "cell_type": "markdown",
   "metadata": {},
   "source": [
    "## 4.Data Merging"
   ]
  },
  {
   "cell_type": "markdown",
   "metadata": {},
   "source": [
    "### 4.1 Merge domain rent data and region Key Statistics"
   ]
  },
  {
   "cell_type": "markdown",
   "metadata": {},
   "source": [
    "`notebooks/02_preprocessing&merging_data/02_2_domain_data_merging_and_preprocessing.ipynb`：\n",
    "\n",
    "**Apporach:** To combine the Domain rental data with the region-based statistical data (such as population, income, and house prices), we faced challenges due to differences in region naming conventions.  Additionally, the region names used in the 2024 Domain dataset might not perfectly match those in the statistical region data, creating a need for more flexible merging techniques.  This issue was handled by using fuzzy matching based on the region names to identify the best possible matches.For each region in the Domain data that did not have an exact match, we found the most similar region in the statistical data based on a similarity score threshold (e.g., 80%).\n",
    "\n",
    "**Assumptions & Limitations:**\n",
    "The fuzzy matching algorithm works based on similarity, so some region names might not perfectly match the exact regions from the statistical dataset.\n",
    "Only regions with a similarity score above 80% were considered a valid match.\n",
    "There is a possibility of regions being incorrectly matched due to similar names, but this should not significantly affect the overall analysis."
   ]
  },
  {
   "cell_type": "markdown",
   "metadata": {},
   "source": [
    "### 4.2 Merge domain rent data and criminal data"
   ]
  },
  {
   "cell_type": "markdown",
   "metadata": {},
   "source": [
    "`notebooks/02_preprocessing&merging_data/02_2_domain_data_merging_and_preprocessing.ipynb`:\n",
    "\n",
    "**Apporach:** Once the crime data was preprocessed and grouped by postcode, it was merged with the Domain rental dataset. The merged dataset now included an additional feature, avg_crime_count, representing the average annual crime rate for the corresponding postcode. This helps in understanding the influence of crime on rental prices and property livability.\n",
    "\n",
    "**Assumptions & Limitations:**\n",
    "Crime data was averaged over five years (2020-2024) for each postcode, assuming the crime rate remains relatively stable over this period."
   ]
  },
  {
   "cell_type": "markdown",
   "metadata": {},
   "source": [
    "### 4.3 Victoria state stops information"
   ]
  },
  {
   "cell_type": "markdown",
   "metadata": {
    "vscode": {
     "languageId": "plaintext"
    }
   },
   "source": [
    "`notebooks/02_preprocessing&merging_data/02_4_osm&transport_data_merging.ipynb`:\n",
    "\n",
    "**Approach:** we first removed redundant stops in 'stops_datavic.csv' to ensure that each 'stop_id' is unique, resulting in 500 stops being deleted. We then classified the stops based on their prefixes: stops with numerical prefixes were classified as tram stations, stops with \"railway station\" were identified as train stations, and the rest were categorized as bus stations. The final count includes 547 train stations, 2,023 tram stations, and 25,300 bus stations. "
   ]
  },
  {
   "cell_type": "markdown",
   "metadata": {},
   "source": [
    "### 4.4 Merge counted facilities and region"
   ]
  },
  {
   "cell_type": "markdown",
   "metadata": {},
   "source": [
    "`notebooks/02_preprocessing&merging_data/02_5_domain_data_preprocessing_with_distance_features.ipynb`:\n",
    "\n",
    "**Approach:** the CSV files containing data for all facilities within Victoria, including entertainments, hospitals, parks, fire stations & police stations, each type of school, and public transport stops, will be read and processed. Using their geographic coordinates, these facilities will be mapped to their corresponding 'SA2_NAME21' regions (i.e., SA2 areas) according to the SA2 shapefile. The process will then involve aggregating the counts of each type of facility for each region, resulting in a summary of the number of facilities per SA2 region in Victoria."
   ]
  },
  {
   "cell_type": "markdown",
   "metadata": {},
   "source": [
    "### 4.5 Merge Rent Data and Region Data"
   ]
  },
  {
   "cell_type": "markdown",
   "metadata": {},
   "source": [
    "`notebooks/02_preprocessing&merging_data/02_6_region&rent_data_merging.ipynb`:\n",
    "\n",
    "**Objective**: Merge the rental data with various regional datasets, including facilities, criminal data, and other relevant information, to prepare for further analysis and modeling.\n",
    "\n",
    "**Purpose**: Merging these datasets is essential for building a comprehensive view of the factors influencing rental prices and liveability. The combined dataset will enable a thorough analysis of the relationship between rental prices and various regional features such as safety, accessibility to amenities, and growth rates.\n",
    "\n",
    "**Datasets Merged**:\n",
    "  - **Rental Data**: Quarterly median rental prices and counts from 1999 to 2024.\n",
    "  - **Criminal Data**: Median criminal count by region, providing insights into safety.\n",
    "  - **Regional Data**: Information on facilities, region growth rates, regional data and proximity to Melbourne CBD.\n",
    "\n",
    "**Data Transformation and Cleaning**:\n",
    "  - **Rental Data**: The raw rental data was cleaned, and date columns were extracted and transformed to pair rental property counts and median prices for each region and time period.\n",
    "  - **Criminal Data**: Processed by aggregating criminal incidents for each Postcode, then mapping the Postcodes to SA2 regions for consistency across datasets.\n",
    "  - **Regional Data**: Merged data on facilities, growth rates, distance to Melbourne CBD and other informations (eg. number of homeless), standardized by SA2 regions for geographical alignment.\n",
    "\n",
    "**Merging Process**:\n",
    "  - The rent data was first merged with the SA2-LGA correspondence file to ensure regional consistency.\n",
    "  - Criminal data was merged based on SA2 regions from postcode regions to introduce safety indicators.\n",
    "  - Regional data, including facilities and proximity to Melbourne CBD, was added to provide additional context for rental price prediction and liveability ranking.\n",
    "  \n",
    "**Challenges**:\n",
    "  - Ensuring consistent geographic boundaries across datasets required careful standardization of region names and codes (e.g., Suburb to SA2 mapping).\n",
    "  - Handling missing values and cleaning the data to ensure that all relevant regions were included.\n",
    "\n",
    "**Assumptions Made**:\n",
    "  1. **Consistency of Regional Boundaries**:\n",
    "    - SA2, LGA, and Postcode boundaries are assumed to have remained stable over time, or any changes are reflected in the correspondence files.\n",
    "\n",
    "  2. **Completeness of Mapping Files**:\n",
    "    - The correspondence files are assumed to cover all relevant regions, with no missing or excluded areas.\n",
    "\n",
    "  3. **Correct Matching of Suburbs and LGAs**:\n",
    "    - Suburb and LGA names are assumed to be standardized correctly across datasets, ensuring proper matching.\n",
    "\n",
    "  4. **Representativeness of Criminal Data**:\n",
    "    - The median criminal count is assumed to be a reliable indicator of regional safety, without major fluctuations over time.\n"
   ]
  },
  {
   "cell_type": "markdown",
   "metadata": {},
   "source": [
    "## 5.Data Analysis"
   ]
  },
  {
   "cell_type": "markdown",
   "metadata": {},
   "source": [
    "### 5.1 Historical Rent Visualization(Geo + Timeseries)"
   ]
  },
  {
   "cell_type": "markdown",
   "metadata": {},
   "source": [
    "`notebooks/03_modelling&analysing_data/03_visual_1_historial_rent.ipynb`\n",
    "\n",
    "**Approach：** The data set used in this python notebook is mainly the Historical rent data of Merge, as well as the shapefile of LGA and SA2.\n",
    "* We extracted the number of rental homes and the median rental price for each LGA region in each quarter from 1999 to 2024 for all cities. We then calculated the median rent and count for all regions and plotted the Time Series.\n",
    "* we drew the Time series of rent in all LGA regions.\n",
    "* All SA2 regions that can be converted to and from LGA are marked on the geographic map\n",
    "* we counted the rent growth rate of each city every two years, calculated the average value, and drew the Time series of the 10 regions with the highest average value, and marked them on the geographical map\n",
    "* The Growth rate of the five years from 19 to 24 is calculated, and the top 10 regions are marked on the geographical map\n",
    "* All rents in 2024 partitioned according to the LGA are extracted, and the geographical map is drawn\n",
    "\n",
    "**Assumption & Limitation:** \n",
    "* We assume that the median is representative of the region or Victoria\n",
    "* There are some missing data of SA2 rent, and it is assumed that the missing data will not have any impact on the prediction or model\n",
    "\n",
    "**Finding：**\n",
    "* The overall trend of rent and count in Victoria is increasing. The rent can be said to be steadily rising, but the rental housing still has ups and downs, it is worth noting that there is a relatively large increase from 2008 to 2012. There was a significant decrease in the number of rental houses in 20 to 21 years. It is reasonable to suspect that the Covid-19 had a great impact on the number of rental houses\n",
    "* The LGA divides the data for Victoria into 66 partitions, and it can be seen that the overall trend of rent in all 66 partitions is upward\n",
    "* There are Little missing data of SA2 rent\n",
    "* The five regions of Bass Coast, Mansfield, Glenelg and Corangamite Wellington are the five cities with the highest growth rate every two years on average, and their average growth rate is more than 5%\n",
    "* Glenelg, Hindmarsh, Indigo, Wellington and Moira have the highest rent growth rate from 19 to 24 years, and all of them have increased by 50% in these five years\n",
    "* The five regions of Melbourne, Yarra, Manningham, Boroondara, Monash have the highest median rent in the first two quarters of 2024"
   ]
  },
  {
   "cell_type": "markdown",
   "metadata": {},
   "source": [
    "### 5.2 EDA of Domain rent  data, key Statistics and Criminal data"
   ]
  },
  {
   "cell_type": "markdown",
   "metadata": {},
   "source": [
    " `notebooks/03_modelling&analysing_data/03_Q1_important_factors.ipynb`:\n",
    " \n",
    " **Approach：**  In this notebook, we conducted Exploratory Data Analysis. First, we studied the rent price distribution and its relationship with other characteristics. Next we use histograms, scatter plots, and heat maps to visualize the relationships and correlations between the following features: Median rental price and income, Rent prices and crime rates, Rental prices by house type, Heat map of feature correlation\n",
    "\n",
    " **Finding:** \n",
    "* Distribution of Rental Prices: Rents for most properties are concentrated in the $500 to $1000 range, with a small number of properties costing more than $2000. Rents are skewed to the right, suggesting that a small number of high-priced properties lead to a long-tail distribution of rents\n",
    "\n",
    "* Rental Price by Property Type: Rental price by property type: The rent of different types of properties varies significantly, with \"Townhouse\" and \"House\" properties having higher and more discrete rents, while \"Studio\" and \"Villa\" properties having lower and more concentrated rents. Apartment/Unit/Flat rents are widely distributed and may be related to their size and geographical diversity\n",
    "\n",
    "* Rental Price vs Average Crime Count: As can be seen from the scatter plot, the housing rents are more concentrated in areas with lower crime rates (less than 200 crimes per year on average), while those with higher crime rates (more than 300 crimes per year) have lower rents, indicating that crime rates may have a certain impact on rent."
   ]
  },
  {
   "cell_type": "markdown",
   "metadata": {},
   "source": [
    "### 5.3 Domain Rent data in Geo"
   ]
  },
  {
   "cell_type": "markdown",
   "metadata": {},
   "source": [
    "`notebooks/03_modelling&analysing_data/03_visual_2_rent_geo_spatial.ipynb`:\n",
    "\n",
    "**Approach:** Combine the data from the domian crawl with SA2 and plot it on a geographic map\n",
    "\n",
    "**Limitation：** The data crawled on Domian is not a perfect coverage of the state of Victoria, the amount of data is not enough"
   ]
  },
  {
   "cell_type": "markdown",
   "metadata": {},
   "source": [
    "## 6. Feature Importance"
   ]
  },
  {
   "cell_type": "markdown",
   "metadata": {},
   "source": [
    "`notebooks/03_modelling&analysing_data/03_Q1_important_factors.ipynb`"
   ]
  },
  {
   "cell_type": "markdown",
   "metadata": {},
   "source": [
    "### 6.1 Correlation Analysis"
   ]
  },
  {
   "cell_type": "markdown",
   "metadata": {},
   "source": [
    "| Pearson Internal Feature                                           | Pearson Abs Value | Spearman Internal Feature                                         | Spearman Abs Value |\n",
    "|-----------------------------------------------------------|---------------|----------------------------------------------------------|----------------|\n",
    "| cost_text                                                 | 1.000000      | cost_text                                                 | 1.000000       |\n",
    "| bath_info                                                 | 0.500645      | bath_info                                                 | 0.531006       |\n",
    "| bed_info                                                  | 0.488654      | bed_info                                                  | 0.523805       |\n",
    "| Median monthly household mortgage payment ($)             | 0.416205      | Median monthly household mortgage payment ($)             | 0.397394       |\n",
    "| Median weekly household rental payment ($)                | 0.400285      | Median weekly household rental payment ($)                | 0.388225       |\n",
    "| Median price of established house transfers ($)           | 0.312309      | Median price of established house transfers ($)           | 0.347622       |\n",
    "| parking                                                   | 0.302742      | parking                                                   | 0.326018       |\n",
    "| avg_crime_count                                           | 0.229785      | avg_crime_count                                           | 0.292291       |\n",
    "| Median total income (excl. Government pensions) ($)       | 0.223070      | Median total income (excl. Government pensions) ($)       | 0.215609       |\n",
    "| Number of jobs                                            | 0.114885      | Land area (ha)                                            | 0.187709       |\n"
   ]
  },
  {
   "cell_type": "markdown",
   "metadata": {},
   "source": [
    "| Pearson External Feature                                          | Pearson Abs Value | Spearman Feature                                          | Spearman Abs Value |\n",
    "|----------------------------------------------------------|---------------|-----------------------------------------------------------|----------------|\n",
    "| cost_text                                                | 1.000000      | cost_text                                                 | 1.000000       |\n",
    "| distance_to_monash_university,_clayton_campus            | 0.209941      | distance_to_monash_university,_clayton_campus             | 0.305634       |\n",
    "| distance_to_deakin_university_-_burwood_campus           | 0.206563      | distance_to_deakin_university_-_burwood_campus            | 0.297839       |\n",
    "| distance_to_la_trobe_university_(bundoora_campus)        | 0.198726      | distance_to_la_trobe_university_(bundoora_campus)         | 0.243249       |\n",
    "| distance_to_the_university_of_melbourne,_parkville_campus| 0.184862      | distance_to_melbourne_central                             | 0.228368       |\n",
    "| distance_to_melbourne_central                           | 0.183480      | distance_to_the_university_of_melbourne,_parkville_campus | 0.219647       |\n",
    "| secondary_primary_school_count_within_3000m              | 0.173984      | secondary_primary_school_count_within_3000m               | 0.183388       |\n",
    "| distance_to_hospital                                     | 0.138044      | cinema_theatre_count_within_3000m                         | 0.133703       |\n",
    "| distance_to_police_station                               | 0.087464      | distance_to_hospital                                      | 0.129648       |\n",
    "| route_distance_m                                         | 0.072208      | restaurant_bar_count_within_1000m                         | 0.105581       |"
   ]
  },
  {
   "cell_type": "markdown",
   "metadata": {},
   "source": [
    "**Approach**: For numerical features, Pearson and Spearman correlation coefficients were used to assess their relationships with the target variable (rental price: cost_text)\n",
    "\n",
    "**Conclusion**:  \n",
    "* **Internal Features:**\n",
    "In both Pearson and Spearman correlation analysis, the main internal factors influencing rental price are  the number of bathrooms (bath_info) and the number of bedrooms (bed_info). These features are directly related to the comfort and functionality of a house, thus having a significant impact on rental costs.Additionally, the crime rate (avg_crime_count) shows the highest negative correlation with rental prices, indicating that a higher crime rate may lower rental levels in the area. Overall Pearson or Spearman correlations remain consistent for most features. However, land area has a significant higher value in Spearman analysis, which may be hint at a non-linear relationship between land area and rental price.\n",
    "\n",
    "* **External Features:**\n",
    "In comparison, external features have lower overall correlation values with rental prices. The main external factors influencing rental prices are features related to the proximity to major universities. Areas near these universities typically have higher demand, leading to increased rental costs. Additionally, the number of primary and secondary schools within a 3000-meter radius and the distance to hospitals also significantly impact rental prices, reflecting the importance of educational resources and medical facilities.  Notably, in the Spearman correlation analysis, features related to the number of public facilities near the property shifted from negative to positive correlations and became more significant. This may be due to a non-linear relationship between the number of public facilities and rental prices."
   ]
  },
  {
   "cell_type": "markdown",
   "metadata": {},
   "source": [
    "### 6.2 Statistical Analysis"
   ]
  },
  {
   "cell_type": "markdown",
   "metadata": {},
   "source": [
    "| Feature                              | p-value                         |\n",
    "|--------------------------------------|---------------------------------|\n",
    "| property_type_House                  | <0.05          |\n",
    "| property_type_New Apartments / Off the Plan | 0.84         |\n",
    "| property_type_New House & Land       | 0.81             |\n",
    "| property_type_Studio                 | <0.05         |\n",
    "| property_type_Terrace                | 0.25             |\n",
    "| property_type_Townhouse              | 0.04            |\n",
    "| property_type_Villa                  | 0.95              |\n",
    "| post_code                            | <0.05           |\n",
    "| region_encoded                       | <0.05           |\n"
   ]
  },
  {
   "cell_type": "markdown",
   "metadata": {},
   "source": [
    "**Approach**:  Separate Analysis of Variance (ANOVA) was conducted on the one-hot encoded and label-encoded features to evaluate the significant differences in rental prices across different categories. The F-value generated by the ANOVA test is used to measure the ratio of variance between groups to variance within groups, with larger F-values indicating greater differences between groups.  The p-value is calculated to determine whether these features have a significant impact on rental prices. Typically, when the p-value is less than 0.05, the feature is considered to have a significant difference in rental prices across different categories.\n",
    "\n",
    "**Conclusion**:  In the results, property_type_House, property_type_Studio, property_type_Townhouse, post_code, and region_encoded all had a significant impact on rental prices (p < 0.05), indicating significant differences in rental prices across these categories."
   ]
  },
  {
   "cell_type": "markdown",
   "metadata": {},
   "source": [
    "### 6.3 Model Analysis"
   ]
  },
  {
   "cell_type": "markdown",
   "metadata": {},
   "source": [
    " **Model Types**:\n",
    "  1. **RandomForestRegressor (RF)**:\n",
    "     - Random Forest is an ensemble learning method that combines multiple decision trees to improve accuracy and prevent overfitting. It creates a \"forest\" of decision trees by training them on different subsets of data and features, then averages the predictions of individual trees\n",
    "\n",
    "  2. **XGBRegressor (XGB)**:\n",
    "     - XGBRegressor is a gradient boosting model specifically designed for regression tasks. It builds trees sequentially, with each tree attempting to correct the errors of the previous one, and uses advanced techniques like regularization and shrinkage to avoid overfitting.\n"
   ]
  },
  {
   "cell_type": "markdown",
   "metadata": {},
   "source": [
    " **Model Selection (Assumption & Limitation)**:\n",
    "\n",
    "**Advantage for Tree-based Models**:  \n",
    "\n",
    "- There is a nonlinear relationship and Multicollinearity among features in the dataset, tree-based models can naturally identify and utilize nonlinear relationships and interactions among features.\n",
    "- provide feature importance scores\n",
    "- exhibit strong robustness to missing values and outliers in the data."
   ]
  },
  {
   "cell_type": "markdown",
   "metadata": {},
   "source": [
    "| Model           | Advantages                                                                                       | Assumption & Limitation                                                                                           | Use Case                                                                                           |\n",
    "|-----------------|--------------------------------------------------------------------------------------------------|-------------------------------------------------------------------------------------------------------------------|----------------------------------------------------------------------------------------------------|\n",
    "| **Random Forest** | - Handles large datasets with high dimensionality effectively. <br> - Reduces overfitting by averaging multiple decision trees. | - Computationally expensive for large datasets due to multiple trees.<br> - Prediction accuracy usually lower than XGBoost.<br> - Interpretability can be difficult as it outputs the average result of multiple decision trees.<br> - Assumes no need for feature scaling or normalization. | Well-suited for structured data with non-linear patterns and moderate dataset sizes.               |\n",
    "| **XGBRegressor** | - Highly flexible with hyperparameter tuning.<br> - Excellent for complex, non-linear relationships.<br> - In-built regularization to prevent overfitting. | - Can overfit without careful tuning.<br> - More computational resources needed compared to RF model.<br> - Assumes that the features are independent, though it can still perform well with correlated features.<br> - Assumes that there is no need for strict feature scaling or normalization. | Ideal for structured data in regression tasks, especially where accuracy is key.                   |\n"
   ]
  },
  {
   "cell_type": "markdown",
   "metadata": {},
   "source": [
    "**Test-train split:** \n",
    "\n",
    "For the test-train split, the dataset was divided into a training set (80%) and a test set (20%) with 2022 samples in the training set and 506 samples in the test set, each containing 39 original features."
   ]
  },
  {
   "cell_type": "markdown",
   "metadata": {},
   "source": [
    "**Hyperparameter Tuning:**\n",
    "\n",
    "We used **RandomizedSearchCV** for hyperparameter tuning. RandomizedSearchCV operates by randomly sampling a specified number of hyperparameter combinations from the predefined search space  and evaluating model performance for each combination. RandomizedSearchCV is efficient in hyperparameter tuning, but due to the use of random sampling, it may not always find the optimal solution."
   ]
  },
  {
   "cell_type": "markdown",
   "metadata": {},
   "source": [
    "| Model            | Best Parameters Found                                                                                                                                 |\n",
    "|------------------|-------------------------------------------------------------------------------------------------------------------------------------------------------|\n",
    "| Random Forest     | {'n_estimators': 300, 'min_samples_split': 5, 'min_samples_leaf': 1, 'max_features': 'sqrt', 'max_depth': 7, 'bootstrap': False}                    |\n",
    "| XGBRegressor      | {'subsample': 0.8, 'n_estimators': 100, 'max_depth': 3, 'learning_rate': 0.1, 'colsample_bytree': 0.8}    "
   ]
  },
  {
   "cell_type": "markdown",
   "metadata": {},
   "source": [
    "**Feature Selection:**\n",
    "\n",
    "**Recursive Feature Elimination with Cross-Validation** (RFECV) is used for feature selection. RFECV recursively trains the model and removes the least important features in each iteration, while using cross-validation to evaluate the model's performance, until the optimal subset of features is found. RFECV automatically selects the most important features for the model, improving performance and reducing the risk of overfitting, but it comes with high computational costs due to the need for multiple model trainings."
   ]
  },
  {
   "cell_type": "markdown",
   "metadata": {},
   "source": [
    " **Result Comparison**:"
   ]
  },
  {
   "cell_type": "markdown",
   "metadata": {},
   "source": [
    "| Model   | RMSE        | Adjusted R² | optimal number of features|\n",
    "|---------|-------------|-------------|-------------|\n",
    "| RF      | 149.43308  | 0.74296    | 16    |\n",
    "| XGBoost | 133.31139  | 0.79543    |30    |"
   ]
  },
  {
   "cell_type": "markdown",
   "metadata": {},
   "source": [
    "This table shows the top 10 most important predictive features of the target variable for each model, sorted by their importance in descending order based on the model's internal feature importance scores."
   ]
  },
  {
   "cell_type": "markdown",
   "metadata": {},
   "source": [
    "| Rank | Random Forest Feature Importance         | XGBoost Feature Importance                 |\n",
    "|------|------------------------------------------|--------------------------------------------|\n",
    "| 1    | bed_info                                 | Median monthly household mortgage payment ($) |\n",
    "| 2    | bath_info                                | distance_to_hospital                       |\n",
    "| 3    | Children enrolled in a preschool program | bath_info                                  |\n",
    "| 4    | Working age population (aged 15-64 years) (%) | bed_info                                   |\n",
    "| 5    | parking                                  | Median price of established house transfers ($) |\n",
    "| 6    | Estimated resident population (no.)      | property_type_House                        |\n",
    "| 7    | avg_crime_count                          | Median total income (excl. pensions)       |\n",
    "| 8    | post_code                                | region_encoded                             |\n",
    "| 9    | Land area (ha)                           | distance_to_unimelb_parkville_campus |\n",
    "| 10   | Number of jobs                           | Land area (ha)                             |"
   ]
  },
  {
   "cell_type": "markdown",
   "metadata": {},
   "source": [
    "## 7. Modelling(Rent Projection)"
   ]
  },
  {
   "cell_type": "markdown",
   "metadata": {},
   "source": [
    "### 7.1 Time Series Models"
   ]
  },
  {
   "cell_type": "markdown",
   "metadata": {},
   "source": [
    "`models/03_Q2_time_series_model.ipynb`"
   ]
  },
  {
   "cell_type": "markdown",
   "metadata": {},
   "source": [
    " **Data Characteristics**:\n",
    "  - The time series data ranges from **Q2 1999 to Q1 2024**, representing **quarterly median weekly rental prices** in Victoria.\n",
    "  - The data is structured by quarter and captures the median weekly rent prices over time, aimed at identifying both long-term trends and short-term fluctuations.\n",
    "  - The objective is to forecast rental prices from **2024 to 2027** and analyze the growth trends for the next three years.\n",
    "  - **Region Classification**: Time series models use **LGA (Local Government Area)** shapefiles to categorize the regions, providing a more aggregated view of the region classification.\n",
    "\n",
    "\n",
    "  **Assumption & Limitation:** Assuming that the quarterly rental price trends predicted by the time series models are independent of external factors. This is primarily due to the lack of quarterly segmented external datasets, such as income and employment data.\n",
    "\n",
    " **Model Types**:\n",
    "  1. **SARIMA (Seasonal ARIMA)**:\n",
    "     - SARIMA extends the standard ARIMA model by accounting for seasonal patterns in the data, making it suitable for time series with both trend and seasonal components.\n",
    "     - The model uses additional seasonal parameters to capture recurring patterns in the data, making it ideal for time series with stable seasonal trends.\n",
    "\n",
    "  2. **Prophet**:\n",
    "     - Prophet, developed by Facebook, is a robust and flexible time series model that can capture long-term trends, periodic patterns (e.g., yearly or quarterly seasonality), and holiday effects.\n",
    "     - It is particularly effective for handling sudden changes in data trends and can incorporate external variables, such as holidays and events.\n",
    "\n",
    " **Advantages and Disadvantages**:\n",
    "  \n",
    "  | **Model** | **Advantages** | **Disadvantages** | **Use Case** |\n",
    "  |-----------|----------------|------------------|--------------|\n",
    "  | **SARIMA** | - Effectively captures long-term trends and seasonality.<br>- Clear interpretation of parameters.<br>- Suitable for series with strong seasonal components. | - Struggles with complex trends and non-linear changes.<br>- Requires manual parameter tuning (p, d, q, P, D, Q, m).<br>- Sensitive to outliers and data irregularities. | Ideal for stable seasonal series (e.g., quarterly sales data). |\n",
    "  | **Prophet** | - Easy to use, with automatic parameter optimization.<br>- Handles complex trends and multiple seasonal components.<br>- Supports external variables (holidays, trend shifts).<br>- Robust to missing data and outliers. | - Performance is suboptimal when seasonality is weak.<br>- Limited effectiveness on small datasets. | Best suited for data with complex patterns and non-linear changes (e.g., event-driven data). |\n",
    "\n",
    " **Application Context**:\n",
    "  - For this dataset, which consists of Victoria’s quarterly rental prices from 1999 to 2024, both SARIMA and Prophet are suitable choices due to their ability to model long-term trends and seasonal components.\n",
    "  - SARIMA excels at capturing stable, periodic fluctuations, while Prophet is more effective in modeling complex, non-linear changes and sudden shifts in the trend.\n",
    "\n",
    " **Result Comparison**:\n",
    "  - **SARIMA Predictions**: In the SARIMA forecast results, **all 66 LGAs in Victoria show an upward trend** in future rental prices.\n",
    "  - **Prophet Predictions**: The Prophet model, on the other hand, shows that **some regions**, particularly in the **Melbourne metropolitan area**, experience a slight decline. However, the decline is relatively minor, generally **less than 5%**.\n",
    "  \n",
    " **Future Growth Forecast**:\n",
    "  - Use SARIMA and Prophet to forecast median weekly rental prices for Victoria from **2024 to 2027**, and analyze the growth trends for different regions over the next three years.\n",
    "  - Compare both models’ predictions to identify areas with the highest and lowest projected growth."
   ]
  },
  {
   "cell_type": "markdown",
   "metadata": {},
   "source": [
    "### 7.2 Regression Models"
   ]
  },
  {
   "cell_type": "markdown",
   "metadata": {},
   "source": [
    "`models/03_Q2_regression_model.ipynb`"
   ]
  },
  {
   "cell_type": "markdown",
   "metadata": {},
   "source": [
    " **Data Characteristics**:\n",
    "  - The regression models use a different dataset, primarily focusing on socio-economic indicators (e.g., population, income, unemployment rates) to predict changes in housing prices.\n",
    "  - The goal is to identify the factors driving housing price changes and use these features to forecast the median housing price trends.\n",
    "  - **Region Classification**: The regression models use **SA2 (Statistical Area Level 2)** for regional classification, which offers a finer level of detail compared to LGA, making it more suitable for micro-level analysis.\n",
    "\n",
    "**Asssumption & Limitation:** The dataset is derived from ‘cleaned_range_data_with_projection.csv’, where many features have only a few years of actual data. Missing values from **2001 to 2027** are **estimated using Linear Regression** based on the limited historical data and then treated as actual values for subsequent modeling.\n",
    "\n",
    " **Model Types**:\n",
    "  1. **Linear Regression**:\n",
    "     - A simple regression model that captures the linear relationship between independent variables (socio-economic indicators) and the target variable (housing price).\n",
    "     - Suitable for datasets where variables have a strong linear correlation with the target.\n",
    "\n",
    "  2. **Random Forest Regression**:\n",
    "     - A powerful ensemble model based on multiple decision trees, capable of handling complex, non-linear relationships.\n",
    "     - Offers the ability to rank feature importance and is robust against noise and overfitting.\n",
    "\n",
    " **Model Performance Comparison**:\n",
    "  - **Linear Regression**:\n",
    "    - The **Mean Squared Error (MSE)** for the linear regression model on the validation dataset is **1058**, indicating a high level of error and suggesting that the model may not fit the data well.\n",
    "  - **Random Forest Regression**:\n",
    "    - The **Random Forest Regression** model achieves a significantly lower **MSE of 546** on the same validation dataset, indicating a better fit to the current dataset and a more accurate prediction capability compared to Linear Regression.\n",
    "  \n",
    "  - **Conclusion**:\n",
    "    - The performance comparison indicates that the **Random Forest Regression** is better suited for this dataset, as it captures the underlying patterns and complexities more effectively than Linear Regression.\n",
    "  \n",
    " **Application Context**:\n",
    "  - Linear Regression is used to model the relationship between socio-economic indicators and median housing prices, providing a clear interpretation of the factors driving housing prices.\n",
    "  - Random Forest Regression is applied when the relationship between variables is complex and non-linear, leveraging the ensemble approach to capture deeper insights.\n",
    "\n",
    " **Result Comparison**:\n",
    "  - **Linear Regression Predictions**: Provides a strong explanatory framework, but struggles with non-linear relationships.\n",
    "  - **Random Forest Predictions**: Effectively captures non-linear patterns and interactions between variables but can become overfitted if not tuned properly.\n",
    "\n",
    " **Final Decision**:\n",
    "  - In the final validation analysis, **Random Forest Regression** performed better, with lower error metrics and better predictive capability.\n",
    "  \n",
    " **Future Growth Forecast**:\n",
    "  - Use both Linear Regression and Random Forest to forecast median housing prices for the next three years, analyzing the growth trends for different regions and comparing with time series models.\n",
    "\n",
    " **Model Comparison**:\n",
    "  - When comparing all four models, **Random Forest Regression** showed better performance on validation data. Therefore, to provide a balanced forecast, the final predictions are presented as the **average of all four models (SARIMA, Prophet, Linear Regression, and Random Forest)**, providing a more robust and objective view of the projected trends.\n"
   ]
  },
  {
   "cell_type": "markdown",
   "metadata": {},
   "source": [
    "### 7.3 Growth Projection conclusion"
   ]
  },
  {
   "cell_type": "markdown",
   "metadata": {},
   "source": [
    "`notebooks/03_modelling&analysing_data/03_Q2_growth_conclusion.ipynb`:"
   ]
  },
  {
   "cell_type": "markdown",
   "metadata": {},
   "source": [
    "**Approach:** Inside this python Notebook I have analysed all Model outputs. Here the results of two Time series models are averaged and the results are plotted geographically. I also averaged the results of two Regression models and plotted them geographically as well."
   ]
  },
  {
   "cell_type": "markdown",
   "metadata": {},
   "source": [
    "**Finding：**\n",
    "* The Top 10 Cities with the Highest Rent Growth Rates as Tested with the SARIMA Model(LGA)\n",
    "\n",
    "| Rank | LGA          | Growth Rate |\n",
    "|------|--------------|-------------|\n",
    "| 1    | Wyndham       | 36.821029   |\n",
    "| 2    | Whittlesea    | 36.120099   |\n",
    "| 3    | Moira         | 33.711697   |\n",
    "| 4    | Hume          | 29.329922   |\n",
    "| 5    | Casey         | 26.548160   |\n",
    "| 6    | Glen Eira     | 25.939525   |\n",
    "| 7    | Swan Hill     | 25.339529   |\n",
    "| 8    | Melbourne     | 24.245395   |\n",
    "| 9    | Monash        | 22.889746   |\n",
    "| 10   | Whitehorse    | 22.690086   |\n",
    "\n",
    "* The Top 10 Cities with the Highest Rent Growth Rates as Tested with the Prophet Model(LGA)\n",
    "\n",
    "| Rank | LGA             | Growth Rate |\n",
    "|------|-----------------|-------------|\n",
    "| 01   | Corangamite     | 23.764265   |\n",
    "| 02   | Alpine          | 21.938616   |\n",
    "| 03   | Benalla         | 21.690267   |\n",
    "| 04   | Glenelg         | 21.423556   |\n",
    "| 05   | South Gippsland | 21.164959   |\n",
    "| 06   | Wellington      | 21.066161   |\n",
    "| 07   | Moyne           | 20.150627   |\n",
    "| 08   | Greater Bendigo | 18.566806   |\n",
    "| 09   | Colac-Otway     | 18.141860   |\n",
    "| 10   | East Gippsland  | 16.642525   |\n",
    "\n",
    "* The Top 10 Cities with the Highest Rent Growth Rates as Tested with the Linear regression Model(SA2)\n",
    "\n",
    "| Rank | SA2                        | Growth Rate |\n",
    "|------|----------------------------|-------------|\n",
    "| 1    | Rockbank-MountCottrell      | 47.046050   |\n",
    "| 2    | Truganina-North             | 31.087346   |\n",
    "| 3    | NhillRegion                 | 28.276937   |\n",
    "| 4    | HorshamSurrounds            | 23.421394   |\n",
    "| 5    | BacchusMarsh                | 20.049214   |\n",
    "| 6    | Torquay                     | 18.230923   |\n",
    "| 7    | Warrnambool-North           | 17.970353   |\n",
    "| 8    | Tarneit-Central             | 17.901570   |\n",
    "| 9    | Prahran-Windsor             | 17.672800   |\n",
    "| 10   | GeelongWest-HamlynHeights   | 17.166830   |\n",
    "\n",
    "* The Top 10 Cities with the Highest Rent Growth Rates as Tested with the Random Forest Regression Model(SA2)\n",
    "\n",
    "| Rank | SA2                    | Growth Rate |\n",
    "|------|------------------------|-------------|\n",
    "| 1    | Kerang                 | 30.383607   |\n",
    "| 2    | Horsham                | 30.177143   |\n",
    "| 3    | CastlemaineSurrounds    | 29.540000   |\n",
    "| 4    | Shepparton-North        | 28.605000   |\n",
    "| 5    | Alfredton               | 27.024390   |\n",
    "| 6    | Hamilton (Vic.)         | 26.641176   |\n",
    "| 7    | Buninyong               | 24.117073   |\n",
    "| 8    | Ballarat                | 23.519512   |\n",
    "| 9    | Stawell                 | 23.388235   |\n",
    "| 10   | Irymple                 | 22.684211   |\n"
   ]
  },
  {
   "cell_type": "markdown",
   "metadata": {},
   "source": [
    "## 8.Liveability Scoring and Ranking Algorithm"
   ]
  },
  {
   "cell_type": "markdown",
   "metadata": {},
   "source": [
    "`notebooks/03_modelling&analysing_data/03_Q3_scoring_system_by_region.ipynb`"
   ]
  },
  {
   "cell_type": "markdown",
   "metadata": {},
   "source": [
    "`notebooks/03_modelling&analysing_data/03_Q3_liveability_index_by_property.ipynb`"
   ]
  },
  {
   "cell_type": "markdown",
   "metadata": {},
   "source": [
    "**Objective**: Develop a scoring system that combines multiple factors into a composite Liveability Index for each SA2 region, allowing us to rank the most liveable suburbs in Victoria, Australia."
   ]
  },
  {
   "cell_type": "markdown",
   "metadata": {},
   "source": [
    "### 8.1 Affordability"
   ]
  },
  {
   "cell_type": "markdown",
   "metadata": {},
   "source": [
    "**Definition**: Affordability is calculated as the ratio of rent to income, based on guidelines from the Australian Institute of Health and Welfare (AIHW).\n",
    "\n",
    "**Method**: \n",
    "  - The rent-to-income ratio is calculated using the following formula:\n",
    "\n",
    "  `Rent-to-Income Ratio = Rent Price / Monthly Income`\n",
    "\n",
    "  Where:\n",
    "  - **Rent Price**: The monthly median rent (June 2020 median rent in this case).\n",
    "  - **Monthly Income**: The 2020 annual median household income divided by 12 to get the monthly income.\n",
    "\n",
    "  - Employment-related factors such as the number of employed individuals (`nEmployed_2021`) and available jobs (`nJob_2020`) are also incorporated.\n",
    "  - The affordability score is normalized, with lower rent-to-income ratios contributing positively to the score."
   ]
  },
  {
   "cell_type": "markdown",
   "metadata": {},
   "source": [
    "### 8.2 Liveability Index"
   ]
  },
  {
   "cell_type": "markdown",
   "metadata": {},
   "source": [
    "**Reference**: The Liveability Index is based on the Australian Urban Observatory (AUO), incorporating multiple measures related to urban liveability, including housing affordability, safety, amenities, and accessibility.\n",
    "\n",
    "**Key Factors**:\n",
    "  1. **Amenities**: Includes access to parks, schools, healthcare, and shops.\n",
    "  2. **Safety**: Calculated using crime rates and homelessness statistics (`nHomeless_2021`).\n",
    "  3. **Accessibility**: Considers access to public transport and proximity to the Melbourne CBD.\n",
    "  4. **Affordability**: Based on rent-to-income ratio and local employment opportunities.\n",
    "\n",
    "\n",
    "**Note**: \n",
    "\n",
    "When calculating the Liveability Index for suburbs, healthcare amenities are measured based on the number of healthcare facilities. However, for the property-level Liveability Index, the closest healthcare distance is used instead. Additionally, the Accessibility score for the property-level Liveability Index is derived from the distance to the Melbourne CBD and the distance to the nearest train station.\n",
    "\n",
    "All amenity scores in the property-level Liveability Index are calculated based on those located within 1000 meters of the property. Additionally, the property-level Liveability Index only considers schools that include preschools, primary, and secondary schools. \n",
    "\n",
    "It’s important to note that the safety score in the property-level Liveability Index does not include homelessness statistics."
   ]
  },
  {
   "cell_type": "markdown",
   "metadata": {},
   "source": [
    "### 8.3 Scoring System"
   ]
  },
  {
   "cell_type": "markdown",
   "metadata": {},
   "source": [
    "**Normalization**: All factors are normalized to ensure consistency and comparability. For example:\n",
    "  - Lower crime rates and rent-to-income ratios are considered better, so scores are inverted where necessary.\n",
    "  - Access to amenities and employment opportunities is scored positively.\n",
    "  \n",
    "**Weighting**: Each factor (Amenities, Safety, Accessibility, and Affordability) is equally weighted in the final Liveability Index."
   ]
  },
  {
   "cell_type": "markdown",
   "metadata": {},
   "source": [
    "### 8.4 Ranking and Visualization"
   ]
  },
  {
   "cell_type": "markdown",
   "metadata": {},
   "source": [
    "**Ranking**: The Liveability Index is calculated for each SA2 region, and regions are ranked based on the index. The top regions are displayed.\n",
    "\n",
    "**Top 10 Liveable Suburbs by SA2 Region**:\n",
    "\n",
    "| Rank | SA2                     | Liveability Index |\n",
    "|------|--------------------------|------------------|\n",
    "| 1    | Berwick - North           | 0.7214           |\n",
    "| 2    | Oakleigh - Huntingdale    | 0.7140           |\n",
    "| 3    | Preston - East            | 0.7110           |\n",
    "| 4    | Wonthaggi - Inverloch     | 0.7084           |\n",
    "| 5    | Carrum Downs              | 0.6970           |\n",
    "| 6    | Blackburn                 | 0.6960           |\n",
    "| 7    | Langwarrin                | 0.6869           |\n",
    "| 8    | Wantirna South            | 0.6848           |\n",
    "| 9    | Lilydale - Coldstream      | 0.6818           |\n",
    "| 10   | Box Hill                  | 0.6806           |\n",
    "\n",
    "**Visualization**: \n",
    "  - A radar plot shows the top 3 regions based on their scores across the four key factors.\n",
    "  - A heatmap highlights the top 10 regions based on the Liveability Index, with clear labeling and map visualization for better insights."
   ]
  },
  {
   "cell_type": "markdown",
   "metadata": {},
   "source": [
    "### 8.5 Assumptions in the Liveability Scoring Process\n"
   ]
  },
  {
   "cell_type": "markdown",
   "metadata": {},
   "source": [
    "1. **Uniform Importance of Factors**:\n",
    "   - **Assumption**: All key factors (Amenities, Safety, Accessibility, Affordability) contribute equally to liveability. This assumes that residents value all aspects similarly, which may not always be the case (e.g., some might prioritize affordability over amenities).\n",
    "\n",
    "2. **Representative Data**:\n",
    "   - **Assumption**: The rent and income data from 2020, along with other datasets (e.g., crime, public transport), are assumed to represent current conditions accurately. This assumes that these conditions haven't changed significantly over time.\n",
    "\n",
    "3. **Geographic Consistency**:\n",
    "   - **Assumption**: The SA2 regions and the correspondence mappings between LGA, Postcode, and SA2 are up-to-date and accurate. This assumes that any boundary changes or updates to the geography have been accounted for.\n",
    "\n",
    "4. **Accessibility of Amenities**:\n",
    "   - **Assumption**: The presence of amenities (e.g., parks, schools, hospitals) directly improves liveability without considering other contextual factors like quality or accessibility for all residents in a region."
   ]
  },
  {
   "cell_type": "markdown",
   "metadata": {},
   "source": [
    "### 8.6 Limitations"
   ]
  },
  {
   "cell_type": "markdown",
   "metadata": {},
   "source": [
    "1. **Simplistic Weighting**:\n",
    "   - **Limitation**: The equal weighting of factors may not reflect real-world priorities, as different individuals or households might prioritize factors such as affordability or safety over others like amenities or accessibility.\n",
    "\n",
    "2. **Outdated Data**:\n",
    "   - **Limitation**: The use of 2020 data (e.g., rent, income, crime) assumes that conditions have not changed significantly over time, potentially leading to inaccurate rankings if major shifts have occurred since then.\n",
    "\n",
    "3. **Quality and Accessibility of Amenities**:\n",
    "   - **Limitation**: The algorithm focuses on the presence of amenities but doesn’t account for their quality or accessibility to all residents, which may distort the perceived liveability of some suburbs.\n",
    "\n",
    "4. **Limited Scope of Safety Metrics**:\n",
    "   - **Limitation**: Safety is only measured through crime rates and homelessness statistics, which overlooks other important safety concerns like traffic accidents or natural disaster risks.\n",
    "\n",
    "5. **Geographic Granularity**:\n",
    "   - **Limitation**: Using the SA2 region level may hide intra-regional differences, oversimplifying liveability within diverse areas of the same SA2, potentially missing more localized trends.\n",
    "\n",
    "6. **Affordability Focus on Rent**:\n",
    "   - **Limitation**: The affordability measure is based solely on rent-to-income ratio and doesn’t account for other living costs like transportation, utilities, or food, which can impact the cost of living in different suburbs.\n",
    "\n",
    "7. **Public Transport vs. Car Dependency**:\n",
    "   - **Limitation**: The algorithm emphasizes public transport accessibility, which may undervalue suburbs where car dependency is more common, especially in less densely populated areas with limited public transport options."
   ]
  },
  {
   "cell_type": "markdown",
   "metadata": {},
   "source": [
    "### 8.7 Conclusion"
   ]
  },
  {
   "cell_type": "markdown",
   "metadata": {},
   "source": [
    "- The data pipeline efficiently downloads, transforms, merges, and ranks regions based on liveability.\n",
    "- Future work could involve expanding the liveability criteria or incorporating real-time data updates."
   ]
  }
 ],
 "metadata": {
  "kernelspec": {
   "display_name": "base",
   "language": "python",
   "name": "python3"
  },
  "language_info": {
   "codemirror_mode": {
    "name": "ipython",
    "version": 3
   },
   "file_extension": ".py",
   "mimetype": "text/x-python",
   "name": "python",
   "nbconvert_exporter": "python",
   "pygments_lexer": "ipython3",
   "version": "3.11.5"
  }
 },
 "nbformat": 4,
 "nbformat_minor": 2
}
